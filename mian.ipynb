{
 "cells": [
  {
   "cell_type": "code",
   "execution_count": 3,
   "metadata": {},
   "outputs": [
    {
     "name": "stdout",
     "output_type": "stream",
     "text": [
      "Requirement already satisfied: accelerate in .\\dacon\\lib\\site-packages (0.33.0)\n",
      "Requirement already satisfied: numpy<2.0.0,>=1.17 in .\\dacon\\lib\\site-packages (from accelerate) (1.26.4)\n",
      "Requirement already satisfied: packaging>=20.0 in .\\dacon\\lib\\site-packages (from accelerate) (24.1)\n",
      "Requirement already satisfied: psutil in .\\dacon\\lib\\site-packages (from accelerate) (6.0.0)\n",
      "Requirement already satisfied: pyyaml in .\\dacon\\lib\\site-packages (from accelerate) (6.0.1)\n",
      "Requirement already satisfied: torch>=1.10.0 in .\\dacon\\lib\\site-packages (from accelerate) (2.4.0)\n",
      "Requirement already satisfied: huggingface-hub>=0.21.0 in .\\dacon\\lib\\site-packages (from accelerate) (0.24.5)\n",
      "Requirement already satisfied: safetensors>=0.3.1 in .\\dacon\\lib\\site-packages (from accelerate) (0.4.4)\n",
      "Requirement already satisfied: filelock in .\\dacon\\lib\\site-packages (from huggingface-hub>=0.21.0->accelerate) (3.15.4)\n",
      "Requirement already satisfied: fsspec>=2023.5.0 in .\\dacon\\lib\\site-packages (from huggingface-hub>=0.21.0->accelerate) (2024.6.1)\n",
      "Requirement already satisfied: requests in .\\dacon\\lib\\site-packages (from huggingface-hub>=0.21.0->accelerate) (2.32.3)\n",
      "Requirement already satisfied: tqdm>=4.42.1 in .\\dacon\\lib\\site-packages (from huggingface-hub>=0.21.0->accelerate) (4.66.5)\n",
      "Requirement already satisfied: typing-extensions>=3.7.4.3 in .\\dacon\\lib\\site-packages (from huggingface-hub>=0.21.0->accelerate) (4.12.2)\n",
      "Requirement already satisfied: sympy in .\\dacon\\lib\\site-packages (from torch>=1.10.0->accelerate) (1.13.1)\n",
      "Requirement already satisfied: networkx in .\\dacon\\lib\\site-packages (from torch>=1.10.0->accelerate) (3.3)\n",
      "Requirement already satisfied: jinja2 in .\\dacon\\lib\\site-packages (from torch>=1.10.0->accelerate) (3.1.4)\n",
      "Requirement already satisfied: colorama in .\\dacon\\lib\\site-packages (from tqdm>=4.42.1->huggingface-hub>=0.21.0->accelerate) (0.4.6)\n",
      "Requirement already satisfied: MarkupSafe>=2.0 in .\\dacon\\lib\\site-packages (from jinja2->torch>=1.10.0->accelerate) (2.1.5)\n",
      "Requirement already satisfied: charset-normalizer<4,>=2 in .\\dacon\\lib\\site-packages (from requests->huggingface-hub>=0.21.0->accelerate) (3.3.2)\n",
      "Requirement already satisfied: idna<4,>=2.5 in .\\dacon\\lib\\site-packages (from requests->huggingface-hub>=0.21.0->accelerate) (3.7)\n",
      "Requirement already satisfied: urllib3<3,>=1.21.1 in .\\dacon\\lib\\site-packages (from requests->huggingface-hub>=0.21.0->accelerate) (2.2.2)\n",
      "Requirement already satisfied: certifi>=2017.4.17 in .\\dacon\\lib\\site-packages (from requests->huggingface-hub>=0.21.0->accelerate) (2024.7.4)\n",
      "Requirement already satisfied: mpmath<1.4,>=1.1.0 in .\\dacon\\lib\\site-packages (from sympy->torch>=1.10.0->accelerate) (1.3.0)\n",
      "Note: you may need to restart the kernel to use updated packages.\n",
      "Looking in indexes: https://pypi.org/simple/\n",
      "Requirement already satisfied: bitsandbytes in .\\dacon\\lib\\site-packages (0.43.3)\n",
      "Requirement already satisfied: torch in .\\dacon\\lib\\site-packages (from bitsandbytes) (2.4.0)\n",
      "Requirement already satisfied: numpy in .\\dacon\\lib\\site-packages (from bitsandbytes) (1.26.4)\n",
      "Requirement already satisfied: filelock in .\\dacon\\lib\\site-packages (from torch->bitsandbytes) (3.15.4)\n",
      "Requirement already satisfied: typing-extensions>=4.8.0 in .\\dacon\\lib\\site-packages (from torch->bitsandbytes) (4.12.2)\n",
      "Requirement already satisfied: sympy in .\\dacon\\lib\\site-packages (from torch->bitsandbytes) (1.13.1)\n",
      "Requirement already satisfied: networkx in .\\dacon\\lib\\site-packages (from torch->bitsandbytes) (3.3)\n",
      "Requirement already satisfied: jinja2 in .\\dacon\\lib\\site-packages (from torch->bitsandbytes) (3.1.4)\n",
      "Requirement already satisfied: fsspec in .\\dacon\\lib\\site-packages (from torch->bitsandbytes) (2024.6.1)\n",
      "Requirement already satisfied: MarkupSafe>=2.0 in .\\dacon\\lib\\site-packages (from jinja2->torch->bitsandbytes) (2.1.5)\n",
      "Requirement already satisfied: mpmath<1.4,>=1.1.0 in .\\dacon\\lib\\site-packages (from sympy->torch->bitsandbytes) (1.3.0)\n",
      "Note: you may need to restart the kernel to use updated packages.\n",
      "Collecting transformers[torch]\n",
      "  Downloading transformers-4.43.4-py3-none-any.whl.metadata (43 kB)\n",
      "Requirement already satisfied: filelock in .\\dacon\\lib\\site-packages (from transformers[torch]) (3.15.4)\n",
      "Requirement already satisfied: huggingface-hub<1.0,>=0.23.2 in .\\dacon\\lib\\site-packages (from transformers[torch]) (0.24.5)\n",
      "Requirement already satisfied: numpy>=1.17 in .\\dacon\\lib\\site-packages (from transformers[torch]) (1.26.4)\n",
      "Requirement already satisfied: packaging>=20.0 in .\\dacon\\lib\\site-packages (from transformers[torch]) (24.1)\n",
      "Requirement already satisfied: pyyaml>=5.1 in .\\dacon\\lib\\site-packages (from transformers[torch]) (6.0.1)\n",
      "Collecting regex!=2019.12.17 (from transformers[torch])\n",
      "  Downloading regex-2024.7.24-cp311-cp311-win_amd64.whl.metadata (41 kB)\n",
      "Requirement already satisfied: requests in .\\dacon\\lib\\site-packages (from transformers[torch]) (2.32.3)\n",
      "Requirement already satisfied: safetensors>=0.4.1 in .\\dacon\\lib\\site-packages (from transformers[torch]) (0.4.4)\n",
      "Collecting tokenizers<0.20,>=0.19 (from transformers[torch])\n",
      "  Using cached tokenizers-0.19.1-cp311-none-win_amd64.whl.metadata (6.9 kB)\n",
      "Requirement already satisfied: tqdm>=4.27 in .\\dacon\\lib\\site-packages (from transformers[torch]) (4.66.5)\n",
      "Requirement already satisfied: accelerate>=0.21.0 in .\\dacon\\lib\\site-packages (from transformers[torch]) (0.33.0)\n",
      "Requirement already satisfied: torch in .\\dacon\\lib\\site-packages (from transformers[torch]) (2.4.0)\n",
      "Requirement already satisfied: psutil in .\\dacon\\lib\\site-packages (from accelerate>=0.21.0->transformers[torch]) (6.0.0)\n",
      "Requirement already satisfied: fsspec>=2023.5.0 in .\\dacon\\lib\\site-packages (from huggingface-hub<1.0,>=0.23.2->transformers[torch]) (2024.6.1)\n",
      "Requirement already satisfied: typing-extensions>=3.7.4.3 in .\\dacon\\lib\\site-packages (from huggingface-hub<1.0,>=0.23.2->transformers[torch]) (4.12.2)\n",
      "Requirement already satisfied: sympy in .\\dacon\\lib\\site-packages (from torch->transformers[torch]) (1.13.1)\n",
      "Requirement already satisfied: networkx in .\\dacon\\lib\\site-packages (from torch->transformers[torch]) (3.3)\n",
      "Requirement already satisfied: jinja2 in .\\dacon\\lib\\site-packages (from torch->transformers[torch]) (3.1.4)\n",
      "Requirement already satisfied: colorama in .\\dacon\\lib\\site-packages (from tqdm>=4.27->transformers[torch]) (0.4.6)\n",
      "Requirement already satisfied: charset-normalizer<4,>=2 in .\\dacon\\lib\\site-packages (from requests->transformers[torch]) (3.3.2)\n",
      "Requirement already satisfied: idna<4,>=2.5 in .\\dacon\\lib\\site-packages (from requests->transformers[torch]) (3.7)\n",
      "Requirement already satisfied: urllib3<3,>=1.21.1 in .\\dacon\\lib\\site-packages (from requests->transformers[torch]) (2.2.2)\n",
      "Requirement already satisfied: certifi>=2017.4.17 in .\\dacon\\lib\\site-packages (from requests->transformers[torch]) (2024.7.4)\n",
      "Requirement already satisfied: MarkupSafe>=2.0 in .\\dacon\\lib\\site-packages (from jinja2->torch->transformers[torch]) (2.1.5)\n",
      "Requirement already satisfied: mpmath<1.4,>=1.1.0 in .\\dacon\\lib\\site-packages (from sympy->torch->transformers[torch]) (1.3.0)\n",
      "Downloading regex-2024.7.24-cp311-cp311-win_amd64.whl (269 kB)\n",
      "Using cached tokenizers-0.19.1-cp311-none-win_amd64.whl (2.2 MB)\n",
      "Downloading transformers-4.43.4-py3-none-any.whl (9.4 MB)\n",
      "   ---------------------------------------- 0.0/9.4 MB ? eta -:--:--\n",
      "   ---------------------------------------- 9.4/9.4 MB 65.4 MB/s eta 0:00:00\n",
      "Installing collected packages: regex, tokenizers, transformers\n",
      "Successfully installed regex-2024.7.24 tokenizers-0.19.1 transformers-4.43.4\n",
      "Note: you may need to restart the kernel to use updated packages.\n",
      "Collecting datasets\n",
      "  Using cached datasets-2.20.0-py3-none-any.whl.metadata (19 kB)\n",
      "Requirement already satisfied: filelock in .\\dacon\\lib\\site-packages (from datasets) (3.15.4)\n",
      "Requirement already satisfied: numpy>=1.17 in .\\dacon\\lib\\site-packages (from datasets) (1.26.4)\n",
      "Collecting pyarrow>=15.0.0 (from datasets)\n",
      "  Using cached pyarrow-17.0.0-cp311-cp311-win_amd64.whl.metadata (3.4 kB)\n",
      "Collecting pyarrow-hotfix (from datasets)\n",
      "  Using cached pyarrow_hotfix-0.6-py3-none-any.whl.metadata (3.6 kB)\n",
      "Collecting dill<0.3.9,>=0.3.0 (from datasets)\n",
      "  Using cached dill-0.3.8-py3-none-any.whl.metadata (10 kB)\n",
      "Collecting pandas (from datasets)\n",
      "  Using cached pandas-2.2.2-cp311-cp311-win_amd64.whl.metadata (19 kB)\n",
      "Requirement already satisfied: requests>=2.32.2 in .\\dacon\\lib\\site-packages (from datasets) (2.32.3)\n",
      "Requirement already satisfied: tqdm>=4.66.3 in .\\dacon\\lib\\site-packages (from datasets) (4.66.5)\n",
      "Collecting xxhash (from datasets)\n",
      "  Using cached xxhash-3.4.1-cp311-cp311-win_amd64.whl.metadata (12 kB)\n",
      "Collecting multiprocess (from datasets)\n",
      "  Using cached multiprocess-0.70.16-py311-none-any.whl.metadata (7.2 kB)\n",
      "Collecting fsspec<=2024.5.0,>=2023.1.0 (from fsspec[http]<=2024.5.0,>=2023.1.0->datasets)\n",
      "  Using cached fsspec-2024.5.0-py3-none-any.whl.metadata (11 kB)\n",
      "Collecting aiohttp (from datasets)\n",
      "  Downloading aiohttp-3.10.1-cp311-cp311-win_amd64.whl.metadata (7.8 kB)\n",
      "Requirement already satisfied: huggingface-hub>=0.21.2 in .\\dacon\\lib\\site-packages (from datasets) (0.24.5)\n",
      "Requirement already satisfied: packaging in .\\dacon\\lib\\site-packages (from datasets) (24.1)\n",
      "Requirement already satisfied: pyyaml>=5.1 in .\\dacon\\lib\\site-packages (from datasets) (6.0.1)\n",
      "Collecting aiohappyeyeballs>=2.3.0 (from aiohttp->datasets)\n",
      "  Using cached aiohappyeyeballs-2.3.4-py3-none-any.whl.metadata (5.6 kB)\n",
      "Collecting aiosignal>=1.1.2 (from aiohttp->datasets)\n",
      "  Using cached aiosignal-1.3.1-py3-none-any.whl.metadata (4.0 kB)\n",
      "Collecting attrs>=17.3.0 (from aiohttp->datasets)\n",
      "  Downloading attrs-24.1.0-py3-none-any.whl.metadata (14 kB)\n",
      "Collecting frozenlist>=1.1.1 (from aiohttp->datasets)\n",
      "  Using cached frozenlist-1.4.1-cp311-cp311-win_amd64.whl.metadata (12 kB)\n",
      "Collecting multidict<7.0,>=4.5 (from aiohttp->datasets)\n",
      "  Using cached multidict-6.0.5-cp311-cp311-win_amd64.whl.metadata (4.3 kB)\n",
      "Collecting yarl<2.0,>=1.0 (from aiohttp->datasets)\n",
      "  Using cached yarl-1.9.4-cp311-cp311-win_amd64.whl.metadata (32 kB)\n",
      "Requirement already satisfied: typing-extensions>=3.7.4.3 in .\\dacon\\lib\\site-packages (from huggingface-hub>=0.21.2->datasets) (4.12.2)\n",
      "Requirement already satisfied: charset-normalizer<4,>=2 in .\\dacon\\lib\\site-packages (from requests>=2.32.2->datasets) (3.3.2)\n",
      "Requirement already satisfied: idna<4,>=2.5 in .\\dacon\\lib\\site-packages (from requests>=2.32.2->datasets) (3.7)\n",
      "Requirement already satisfied: urllib3<3,>=1.21.1 in .\\dacon\\lib\\site-packages (from requests>=2.32.2->datasets) (2.2.2)\n",
      "Requirement already satisfied: certifi>=2017.4.17 in .\\dacon\\lib\\site-packages (from requests>=2.32.2->datasets) (2024.7.4)\n",
      "Requirement already satisfied: colorama in .\\dacon\\lib\\site-packages (from tqdm>=4.66.3->datasets) (0.4.6)\n",
      "Requirement already satisfied: python-dateutil>=2.8.2 in .\\dacon\\lib\\site-packages (from pandas->datasets) (2.9.0.post0)\n",
      "Collecting pytz>=2020.1 (from pandas->datasets)\n",
      "  Using cached pytz-2024.1-py2.py3-none-any.whl.metadata (22 kB)\n",
      "Collecting tzdata>=2022.7 (from pandas->datasets)\n",
      "  Using cached tzdata-2024.1-py2.py3-none-any.whl.metadata (1.4 kB)\n",
      "Requirement already satisfied: six>=1.5 in .\\dacon\\lib\\site-packages (from python-dateutil>=2.8.2->pandas->datasets) (1.16.0)\n",
      "Using cached datasets-2.20.0-py3-none-any.whl (547 kB)\n",
      "Using cached dill-0.3.8-py3-none-any.whl (116 kB)\n",
      "Using cached fsspec-2024.5.0-py3-none-any.whl (316 kB)\n",
      "Downloading aiohttp-3.10.1-cp311-cp311-win_amd64.whl (375 kB)\n",
      "Using cached pyarrow-17.0.0-cp311-cp311-win_amd64.whl (25.2 MB)\n",
      "Using cached multiprocess-0.70.16-py311-none-any.whl (143 kB)\n",
      "Using cached pandas-2.2.2-cp311-cp311-win_amd64.whl (11.6 MB)\n",
      "Using cached pyarrow_hotfix-0.6-py3-none-any.whl (7.9 kB)\n",
      "Using cached xxhash-3.4.1-cp311-cp311-win_amd64.whl (29 kB)\n",
      "Using cached aiohappyeyeballs-2.3.4-py3-none-any.whl (12 kB)\n",
      "Using cached aiosignal-1.3.1-py3-none-any.whl (7.6 kB)\n",
      "Downloading attrs-24.1.0-py3-none-any.whl (63 kB)\n",
      "Using cached frozenlist-1.4.1-cp311-cp311-win_amd64.whl (50 kB)\n",
      "Using cached multidict-6.0.5-cp311-cp311-win_amd64.whl (28 kB)\n",
      "Using cached pytz-2024.1-py2.py3-none-any.whl (505 kB)\n",
      "Using cached tzdata-2024.1-py2.py3-none-any.whl (345 kB)\n",
      "Using cached yarl-1.9.4-cp311-cp311-win_amd64.whl (76 kB)\n",
      "Installing collected packages: pytz, xxhash, tzdata, pyarrow-hotfix, pyarrow, multidict, fsspec, frozenlist, dill, attrs, aiohappyeyeballs, yarl, pandas, multiprocess, aiosignal, aiohttp, datasets\n",
      "  Attempting uninstall: fsspec\n",
      "    Found existing installation: fsspec 2024.6.1\n",
      "    Uninstalling fsspec-2024.6.1:\n",
      "      Successfully uninstalled fsspec-2024.6.1\n",
      "Successfully installed aiohappyeyeballs-2.3.4 aiohttp-3.10.1 aiosignal-1.3.1 attrs-24.1.0 datasets-2.20.0 dill-0.3.8 frozenlist-1.4.1 fsspec-2024.5.0 multidict-6.0.5 multiprocess-0.70.16 pandas-2.2.2 pyarrow-17.0.0 pyarrow-hotfix-0.6 pytz-2024.1 tzdata-2024.1 xxhash-3.4.1 yarl-1.9.4\n",
      "Note: you may need to restart the kernel to use updated packages.\n",
      "Collecting langchain\n",
      "  Using cached langchain-0.2.12-py3-none-any.whl.metadata (7.1 kB)\n",
      "Requirement already satisfied: PyYAML>=5.3 in .\\dacon\\lib\\site-packages (from langchain) (6.0.1)\n",
      "Collecting SQLAlchemy<3,>=1.4 (from langchain)\n",
      "  Downloading SQLAlchemy-2.0.32-cp311-cp311-win_amd64.whl.metadata (9.8 kB)\n",
      "Requirement already satisfied: aiohttp<4.0.0,>=3.8.3 in .\\dacon\\lib\\site-packages (from langchain) (3.10.1)\n",
      "Collecting langchain-core<0.3.0,>=0.2.27 (from langchain)\n",
      "  Downloading langchain_core-0.2.28-py3-none-any.whl.metadata (6.2 kB)\n",
      "Collecting langchain-text-splitters<0.3.0,>=0.2.0 (from langchain)\n",
      "  Using cached langchain_text_splitters-0.2.2-py3-none-any.whl.metadata (2.1 kB)\n",
      "Collecting langsmith<0.2.0,>=0.1.17 (from langchain)\n",
      "  Downloading langsmith-0.1.98-py3-none-any.whl.metadata (13 kB)\n",
      "Requirement already satisfied: numpy<2,>=1 in .\\dacon\\lib\\site-packages (from langchain) (1.26.4)\n",
      "Collecting pydantic<3,>=1 (from langchain)\n",
      "  Using cached pydantic-2.8.2-py3-none-any.whl.metadata (125 kB)\n",
      "Requirement already satisfied: requests<3,>=2 in .\\dacon\\lib\\site-packages (from langchain) (2.32.3)\n",
      "Collecting tenacity!=8.4.0,<9.0.0,>=8.1.0 (from langchain)\n",
      "  Using cached tenacity-8.5.0-py3-none-any.whl.metadata (1.2 kB)\n",
      "Requirement already satisfied: aiohappyeyeballs>=2.3.0 in .\\dacon\\lib\\site-packages (from aiohttp<4.0.0,>=3.8.3->langchain) (2.3.4)\n",
      "Requirement already satisfied: aiosignal>=1.1.2 in .\\dacon\\lib\\site-packages (from aiohttp<4.0.0,>=3.8.3->langchain) (1.3.1)\n",
      "Requirement already satisfied: attrs>=17.3.0 in .\\dacon\\lib\\site-packages (from aiohttp<4.0.0,>=3.8.3->langchain) (24.1.0)\n",
      "Requirement already satisfied: frozenlist>=1.1.1 in .\\dacon\\lib\\site-packages (from aiohttp<4.0.0,>=3.8.3->langchain) (1.4.1)\n",
      "Requirement already satisfied: multidict<7.0,>=4.5 in .\\dacon\\lib\\site-packages (from aiohttp<4.0.0,>=3.8.3->langchain) (6.0.5)\n",
      "Requirement already satisfied: yarl<2.0,>=1.0 in .\\dacon\\lib\\site-packages (from aiohttp<4.0.0,>=3.8.3->langchain) (1.9.4)\n",
      "Collecting jsonpatch<2.0,>=1.33 (from langchain-core<0.3.0,>=0.2.27->langchain)\n",
      "  Using cached jsonpatch-1.33-py2.py3-none-any.whl.metadata (3.0 kB)\n",
      "Requirement already satisfied: packaging<25,>=23.2 in .\\dacon\\lib\\site-packages (from langchain-core<0.3.0,>=0.2.27->langchain) (24.1)\n",
      "Requirement already satisfied: typing-extensions>=4.7 in .\\dacon\\lib\\site-packages (from langchain-core<0.3.0,>=0.2.27->langchain) (4.12.2)\n",
      "Collecting orjson<4.0.0,>=3.9.14 (from langsmith<0.2.0,>=0.1.17->langchain)\n",
      "  Using cached orjson-3.10.6-cp311-none-win_amd64.whl.metadata (51 kB)\n",
      "Collecting annotated-types>=0.4.0 (from pydantic<3,>=1->langchain)\n",
      "  Using cached annotated_types-0.7.0-py3-none-any.whl.metadata (15 kB)\n",
      "Collecting pydantic-core==2.20.1 (from pydantic<3,>=1->langchain)\n",
      "  Using cached pydantic_core-2.20.1-cp311-none-win_amd64.whl.metadata (6.7 kB)\n",
      "Requirement already satisfied: charset-normalizer<4,>=2 in .\\dacon\\lib\\site-packages (from requests<3,>=2->langchain) (3.3.2)\n",
      "Requirement already satisfied: idna<4,>=2.5 in .\\dacon\\lib\\site-packages (from requests<3,>=2->langchain) (3.7)\n",
      "Requirement already satisfied: urllib3<3,>=1.21.1 in .\\dacon\\lib\\site-packages (from requests<3,>=2->langchain) (2.2.2)\n",
      "Requirement already satisfied: certifi>=2017.4.17 in .\\dacon\\lib\\site-packages (from requests<3,>=2->langchain) (2024.7.4)\n",
      "Collecting greenlet!=0.4.17 (from SQLAlchemy<3,>=1.4->langchain)\n",
      "  Using cached greenlet-3.0.3-cp311-cp311-win_amd64.whl.metadata (3.9 kB)\n",
      "Collecting jsonpointer>=1.9 (from jsonpatch<2.0,>=1.33->langchain-core<0.3.0,>=0.2.27->langchain)\n",
      "  Using cached jsonpointer-3.0.0-py2.py3-none-any.whl.metadata (2.3 kB)\n",
      "Using cached langchain-0.2.12-py3-none-any.whl (990 kB)\n",
      "Downloading langchain_core-0.2.28-py3-none-any.whl (379 kB)\n",
      "Using cached langchain_text_splitters-0.2.2-py3-none-any.whl (25 kB)\n",
      "Downloading langsmith-0.1.98-py3-none-any.whl (140 kB)\n",
      "Using cached pydantic-2.8.2-py3-none-any.whl (423 kB)\n",
      "Using cached pydantic_core-2.20.1-cp311-none-win_amd64.whl (1.9 MB)\n",
      "Downloading SQLAlchemy-2.0.32-cp311-cp311-win_amd64.whl (2.1 MB)\n",
      "   ---------------------------------------- 0.0/2.1 MB ? eta -:--:--\n",
      "   ---------------------------------------- 2.1/2.1 MB 58.8 MB/s eta 0:00:00\n",
      "Using cached tenacity-8.5.0-py3-none-any.whl (28 kB)\n",
      "Using cached annotated_types-0.7.0-py3-none-any.whl (13 kB)\n",
      "Using cached greenlet-3.0.3-cp311-cp311-win_amd64.whl (292 kB)\n",
      "Using cached jsonpatch-1.33-py2.py3-none-any.whl (12 kB)\n",
      "Using cached orjson-3.10.6-cp311-none-win_amd64.whl (136 kB)\n",
      "Using cached jsonpointer-3.0.0-py2.py3-none-any.whl (7.6 kB)\n",
      "Installing collected packages: tenacity, pydantic-core, orjson, jsonpointer, greenlet, annotated-types, SQLAlchemy, pydantic, jsonpatch, langsmith, langchain-core, langchain-text-splitters, langchain\n",
      "Successfully installed SQLAlchemy-2.0.32 annotated-types-0.7.0 greenlet-3.0.3 jsonpatch-1.33 jsonpointer-3.0.0 langchain-0.2.12 langchain-core-0.2.28 langchain-text-splitters-0.2.2 langsmith-0.1.98 orjson-3.10.6 pydantic-2.8.2 pydantic-core-2.20.1 tenacity-8.5.0\n",
      "Note: you may need to restart the kernel to use updated packages.\n",
      "Collecting langchain_community\n",
      "  Downloading langchain_community-0.2.11-py3-none-any.whl.metadata (2.7 kB)\n",
      "Requirement already satisfied: PyYAML>=5.3 in .\\dacon\\lib\\site-packages (from langchain_community) (6.0.1)\n",
      "Requirement already satisfied: SQLAlchemy<3,>=1.4 in .\\dacon\\lib\\site-packages (from langchain_community) (2.0.32)\n",
      "Requirement already satisfied: aiohttp<4.0.0,>=3.8.3 in .\\dacon\\lib\\site-packages (from langchain_community) (3.10.1)\n",
      "Collecting dataclasses-json<0.7,>=0.5.7 (from langchain_community)\n",
      "  Using cached dataclasses_json-0.6.7-py3-none-any.whl.metadata (25 kB)\n",
      "Requirement already satisfied: langchain<0.3.0,>=0.2.12 in .\\dacon\\lib\\site-packages (from langchain_community) (0.2.12)\n",
      "Requirement already satisfied: langchain-core<0.3.0,>=0.2.27 in .\\dacon\\lib\\site-packages (from langchain_community) (0.2.28)\n",
      "Requirement already satisfied: langsmith<0.2.0,>=0.1.0 in .\\dacon\\lib\\site-packages (from langchain_community) (0.1.98)\n",
      "Requirement already satisfied: numpy<2,>=1 in .\\dacon\\lib\\site-packages (from langchain_community) (1.26.4)\n",
      "Requirement already satisfied: requests<3,>=2 in .\\dacon\\lib\\site-packages (from langchain_community) (2.32.3)\n",
      "Requirement already satisfied: tenacity!=8.4.0,<9.0.0,>=8.1.0 in .\\dacon\\lib\\site-packages (from langchain_community) (8.5.0)\n",
      "Requirement already satisfied: aiohappyeyeballs>=2.3.0 in .\\dacon\\lib\\site-packages (from aiohttp<4.0.0,>=3.8.3->langchain_community) (2.3.4)\n",
      "Requirement already satisfied: aiosignal>=1.1.2 in .\\dacon\\lib\\site-packages (from aiohttp<4.0.0,>=3.8.3->langchain_community) (1.3.1)\n",
      "Requirement already satisfied: attrs>=17.3.0 in .\\dacon\\lib\\site-packages (from aiohttp<4.0.0,>=3.8.3->langchain_community) (24.1.0)\n",
      "Requirement already satisfied: frozenlist>=1.1.1 in .\\dacon\\lib\\site-packages (from aiohttp<4.0.0,>=3.8.3->langchain_community) (1.4.1)\n",
      "Requirement already satisfied: multidict<7.0,>=4.5 in .\\dacon\\lib\\site-packages (from aiohttp<4.0.0,>=3.8.3->langchain_community) (6.0.5)\n",
      "Requirement already satisfied: yarl<2.0,>=1.0 in .\\dacon\\lib\\site-packages (from aiohttp<4.0.0,>=3.8.3->langchain_community) (1.9.4)\n",
      "Collecting marshmallow<4.0.0,>=3.18.0 (from dataclasses-json<0.7,>=0.5.7->langchain_community)\n",
      "  Using cached marshmallow-3.21.3-py3-none-any.whl.metadata (7.1 kB)\n",
      "Collecting typing-inspect<1,>=0.4.0 (from dataclasses-json<0.7,>=0.5.7->langchain_community)\n",
      "  Using cached typing_inspect-0.9.0-py3-none-any.whl.metadata (1.5 kB)\n",
      "Requirement already satisfied: langchain-text-splitters<0.3.0,>=0.2.0 in .\\dacon\\lib\\site-packages (from langchain<0.3.0,>=0.2.12->langchain_community) (0.2.2)\n",
      "Requirement already satisfied: pydantic<3,>=1 in .\\dacon\\lib\\site-packages (from langchain<0.3.0,>=0.2.12->langchain_community) (2.8.2)\n",
      "Requirement already satisfied: jsonpatch<2.0,>=1.33 in .\\dacon\\lib\\site-packages (from langchain-core<0.3.0,>=0.2.27->langchain_community) (1.33)\n",
      "Requirement already satisfied: packaging<25,>=23.2 in .\\dacon\\lib\\site-packages (from langchain-core<0.3.0,>=0.2.27->langchain_community) (24.1)\n",
      "Requirement already satisfied: typing-extensions>=4.7 in .\\dacon\\lib\\site-packages (from langchain-core<0.3.0,>=0.2.27->langchain_community) (4.12.2)\n",
      "Requirement already satisfied: orjson<4.0.0,>=3.9.14 in .\\dacon\\lib\\site-packages (from langsmith<0.2.0,>=0.1.0->langchain_community) (3.10.6)\n",
      "Requirement already satisfied: charset-normalizer<4,>=2 in .\\dacon\\lib\\site-packages (from requests<3,>=2->langchain_community) (3.3.2)\n",
      "Requirement already satisfied: idna<4,>=2.5 in .\\dacon\\lib\\site-packages (from requests<3,>=2->langchain_community) (3.7)\n",
      "Requirement already satisfied: urllib3<3,>=1.21.1 in .\\dacon\\lib\\site-packages (from requests<3,>=2->langchain_community) (2.2.2)\n",
      "Requirement already satisfied: certifi>=2017.4.17 in .\\dacon\\lib\\site-packages (from requests<3,>=2->langchain_community) (2024.7.4)\n",
      "Requirement already satisfied: greenlet!=0.4.17 in .\\dacon\\lib\\site-packages (from SQLAlchemy<3,>=1.4->langchain_community) (3.0.3)\n",
      "Requirement already satisfied: jsonpointer>=1.9 in .\\dacon\\lib\\site-packages (from jsonpatch<2.0,>=1.33->langchain-core<0.3.0,>=0.2.27->langchain_community) (3.0.0)\n",
      "Requirement already satisfied: annotated-types>=0.4.0 in .\\dacon\\lib\\site-packages (from pydantic<3,>=1->langchain<0.3.0,>=0.2.12->langchain_community) (0.7.0)\n",
      "Requirement already satisfied: pydantic-core==2.20.1 in .\\dacon\\lib\\site-packages (from pydantic<3,>=1->langchain<0.3.0,>=0.2.12->langchain_community) (2.20.1)\n",
      "Collecting mypy-extensions>=0.3.0 (from typing-inspect<1,>=0.4.0->dataclasses-json<0.7,>=0.5.7->langchain_community)\n",
      "  Using cached mypy_extensions-1.0.0-py3-none-any.whl.metadata (1.1 kB)\n",
      "Downloading langchain_community-0.2.11-py3-none-any.whl (2.3 MB)\n",
      "   ---------------------------------------- 0.0/2.3 MB ? eta -:--:--\n",
      "   ---------------------------------------- 2.3/2.3 MB 65.7 MB/s eta 0:00:00\n",
      "Using cached dataclasses_json-0.6.7-py3-none-any.whl (28 kB)\n",
      "Using cached marshmallow-3.21.3-py3-none-any.whl (49 kB)\n",
      "Using cached typing_inspect-0.9.0-py3-none-any.whl (8.8 kB)\n",
      "Using cached mypy_extensions-1.0.0-py3-none-any.whl (4.7 kB)\n",
      "Installing collected packages: mypy-extensions, marshmallow, typing-inspect, dataclasses-json, langchain_community\n",
      "Successfully installed dataclasses-json-0.6.7 langchain_community-0.2.11 marshmallow-3.21.3 mypy-extensions-1.0.0 typing-inspect-0.9.0\n",
      "Note: you may need to restart the kernel to use updated packages.\n",
      "Collecting PyMuPDF\n",
      "  Downloading PyMuPDF-1.24.9-cp311-none-win_amd64.whl.metadata (3.4 kB)\n",
      "Collecting PyMuPDFb==1.24.9 (from PyMuPDF)\n",
      "  Downloading PyMuPDFb-1.24.9-py3-none-win_amd64.whl.metadata (1.4 kB)\n",
      "Downloading PyMuPDF-1.24.9-cp311-none-win_amd64.whl (3.2 MB)\n",
      "   ---------------------------------------- 0.0/3.2 MB ? eta -:--:--\n",
      "   ---------------------------------------- 3.2/3.2 MB 62.8 MB/s eta 0:00:00\n",
      "Downloading PyMuPDFb-1.24.9-py3-none-win_amd64.whl (13.2 MB)\n",
      "   ---------------------------------------- 0.0/13.2 MB ? eta -:--:--\n",
      "   ---------------------------------------- 13.2/13.2 MB 92.3 MB/s eta 0:00:00\n",
      "Installing collected packages: PyMuPDFb, PyMuPDF\n",
      "Successfully installed PyMuPDF-1.24.9 PyMuPDFb-1.24.9\n",
      "Note: you may need to restart the kernel to use updated packages.\n",
      "Collecting sentence-transformers\n",
      "  Using cached sentence_transformers-3.0.1-py3-none-any.whl.metadata (10 kB)\n",
      "Requirement already satisfied: transformers<5.0.0,>=4.34.0 in .\\dacon\\lib\\site-packages (from sentence-transformers) (4.43.4)\n",
      "Requirement already satisfied: tqdm in .\\dacon\\lib\\site-packages (from sentence-transformers) (4.66.5)\n",
      "Requirement already satisfied: torch>=1.11.0 in .\\dacon\\lib\\site-packages (from sentence-transformers) (2.4.0)\n",
      "Requirement already satisfied: numpy in .\\dacon\\lib\\site-packages (from sentence-transformers) (1.26.4)\n",
      "Collecting scikit-learn (from sentence-transformers)\n",
      "  Using cached scikit_learn-1.5.1-cp311-cp311-win_amd64.whl.metadata (12 kB)\n",
      "Collecting scipy (from sentence-transformers)\n",
      "  Using cached scipy-1.14.0-cp311-cp311-win_amd64.whl.metadata (60 kB)\n",
      "Requirement already satisfied: huggingface-hub>=0.15.1 in .\\dacon\\lib\\site-packages (from sentence-transformers) (0.24.5)\n",
      "Collecting Pillow (from sentence-transformers)\n",
      "  Using cached pillow-10.4.0-cp311-cp311-win_amd64.whl.metadata (9.3 kB)\n",
      "Requirement already satisfied: filelock in .\\dacon\\lib\\site-packages (from huggingface-hub>=0.15.1->sentence-transformers) (3.15.4)\n",
      "Requirement already satisfied: fsspec>=2023.5.0 in .\\dacon\\lib\\site-packages (from huggingface-hub>=0.15.1->sentence-transformers) (2024.5.0)\n",
      "Requirement already satisfied: packaging>=20.9 in .\\dacon\\lib\\site-packages (from huggingface-hub>=0.15.1->sentence-transformers) (24.1)\n",
      "Requirement already satisfied: pyyaml>=5.1 in .\\dacon\\lib\\site-packages (from huggingface-hub>=0.15.1->sentence-transformers) (6.0.1)\n",
      "Requirement already satisfied: requests in .\\dacon\\lib\\site-packages (from huggingface-hub>=0.15.1->sentence-transformers) (2.32.3)\n",
      "Requirement already satisfied: typing-extensions>=3.7.4.3 in .\\dacon\\lib\\site-packages (from huggingface-hub>=0.15.1->sentence-transformers) (4.12.2)\n",
      "Requirement already satisfied: sympy in .\\dacon\\lib\\site-packages (from torch>=1.11.0->sentence-transformers) (1.13.1)\n",
      "Requirement already satisfied: networkx in .\\dacon\\lib\\site-packages (from torch>=1.11.0->sentence-transformers) (3.3)\n",
      "Requirement already satisfied: jinja2 in .\\dacon\\lib\\site-packages (from torch>=1.11.0->sentence-transformers) (3.1.4)\n",
      "Requirement already satisfied: colorama in .\\dacon\\lib\\site-packages (from tqdm->sentence-transformers) (0.4.6)\n",
      "Requirement already satisfied: regex!=2019.12.17 in .\\dacon\\lib\\site-packages (from transformers<5.0.0,>=4.34.0->sentence-transformers) (2024.7.24)\n",
      "Requirement already satisfied: safetensors>=0.4.1 in .\\dacon\\lib\\site-packages (from transformers<5.0.0,>=4.34.0->sentence-transformers) (0.4.4)\n",
      "Requirement already satisfied: tokenizers<0.20,>=0.19 in .\\dacon\\lib\\site-packages (from transformers<5.0.0,>=4.34.0->sentence-transformers) (0.19.1)\n",
      "Collecting joblib>=1.2.0 (from scikit-learn->sentence-transformers)\n",
      "  Using cached joblib-1.4.2-py3-none-any.whl.metadata (5.4 kB)\n",
      "Collecting threadpoolctl>=3.1.0 (from scikit-learn->sentence-transformers)\n",
      "  Using cached threadpoolctl-3.5.0-py3-none-any.whl.metadata (13 kB)\n",
      "Requirement already satisfied: MarkupSafe>=2.0 in .\\dacon\\lib\\site-packages (from jinja2->torch>=1.11.0->sentence-transformers) (2.1.5)\n",
      "Requirement already satisfied: charset-normalizer<4,>=2 in .\\dacon\\lib\\site-packages (from requests->huggingface-hub>=0.15.1->sentence-transformers) (3.3.2)\n",
      "Requirement already satisfied: idna<4,>=2.5 in .\\dacon\\lib\\site-packages (from requests->huggingface-hub>=0.15.1->sentence-transformers) (3.7)\n",
      "Requirement already satisfied: urllib3<3,>=1.21.1 in .\\dacon\\lib\\site-packages (from requests->huggingface-hub>=0.15.1->sentence-transformers) (2.2.2)\n",
      "Requirement already satisfied: certifi>=2017.4.17 in .\\dacon\\lib\\site-packages (from requests->huggingface-hub>=0.15.1->sentence-transformers) (2024.7.4)\n",
      "Requirement already satisfied: mpmath<1.4,>=1.1.0 in .\\dacon\\lib\\site-packages (from sympy->torch>=1.11.0->sentence-transformers) (1.3.0)\n",
      "Using cached sentence_transformers-3.0.1-py3-none-any.whl (227 kB)\n",
      "Using cached pillow-10.4.0-cp311-cp311-win_amd64.whl (2.6 MB)\n",
      "Using cached scikit_learn-1.5.1-cp311-cp311-win_amd64.whl (11.0 MB)\n",
      "Using cached scipy-1.14.0-cp311-cp311-win_amd64.whl (44.7 MB)\n",
      "Using cached joblib-1.4.2-py3-none-any.whl (301 kB)\n",
      "Using cached threadpoolctl-3.5.0-py3-none-any.whl (18 kB)\n",
      "Installing collected packages: threadpoolctl, scipy, Pillow, joblib, scikit-learn, sentence-transformers\n",
      "Successfully installed Pillow-10.4.0 joblib-1.4.2 scikit-learn-1.5.1 scipy-1.14.0 sentence-transformers-3.0.1 threadpoolctl-3.5.0\n",
      "Note: you may need to restart the kernel to use updated packages.\n",
      "Collecting faiss-cpu\n",
      "  Using cached faiss_cpu-1.8.0.post1-cp311-cp311-win_amd64.whl.metadata (3.8 kB)\n",
      "Requirement already satisfied: numpy<2.0,>=1.0 in .\\dacon\\lib\\site-packages (from faiss-cpu) (1.26.4)\n",
      "Requirement already satisfied: packaging in .\\dacon\\lib\\site-packages (from faiss-cpu) (24.1)\n",
      "Using cached faiss_cpu-1.8.0.post1-cp311-cp311-win_amd64.whl (14.6 MB)\n",
      "Installing collected packages: faiss-cpu\n",
      "Successfully installed faiss-cpu-1.8.0.post1\n",
      "Note: you may need to restart the kernel to use updated packages.\n"
     ]
    }
   ],
   "source": [
    "%pip install accelerate\n",
    "%pip install -i https://pypi.org/simple/ bitsandbytes\n",
    "%pip install transformers[torch] -U\n",
    "\n",
    "%pip install datasets\n",
    "%pip install langchain\n",
    "%pip install langchain_community\n",
    "%pip install PyMuPDF\n",
    "%pip install sentence-transformers\n",
    "%pip install faiss-cpu"
   ]
  },
  {
   "cell_type": "code",
   "execution_count": 1,
   "metadata": {},
   "outputs": [
    {
     "name": "stderr",
     "output_type": "stream",
     "text": [
      "d:\\ai_project\\chanyoung\\dacon\\dacon\\Lib\\site-packages\\tqdm\\auto.py:21: TqdmWarning: IProgress not found. Please update jupyter and ipywidgets. See https://ipywidgets.readthedocs.io/en/stable/user_install.html\n",
      "  from .autonotebook import tqdm as notebook_tqdm\n"
     ]
    }
   ],
   "source": [
    "import os\n",
    "import unicodedata\n",
    "import torch\n",
    "import pandas as pd\n",
    "from tqdm import tqdm\n",
    "import fitz  # PyMuPDF\n",
    "from transformers import (\n",
    "    AutoTokenizer,\n",
    "    AutoModelForCausalLM,\n",
    "    pipeline,\n",
    "    BitsAndBytesConfig\n",
    ")\n",
    "from accelerate import Accelerator\n",
    "from peft import LoraConfig, PeftModel\n",
    "# Langchain 관련\n",
    "from langchain_community.document_loaders import PDFMinerLoader, PyMuPDFLoader, PDFPlumberLoader\n",
    "from langchain.llms import HuggingFacePipeline\n",
    "from langchain.embeddings import HuggingFaceEmbeddings\n",
    "from langchain.vectorstores import FAISS\n",
    "from langchain.schema import Document\n",
    "from langchain.text_splitter import RecursiveCharacterTextSplitter, MarkdownHeaderTextSplitter\n",
    "from langchain.prompts import PromptTemplate\n",
    "from langchain.schema.runnable import RunnablePassthrough\n",
    "from langchain.schema.output_parser import StrOutputParser\n",
    "from langchain.retrievers import EnsembleRetriever\n",
    "from langchain_community.retrievers import BM25Retriever\n",
    "from langchain_community.cross_encoders import HuggingFaceCrossEncoder\n",
    "from langchain.retrievers.document_compressors import CrossEncoderReranker\n",
    "from langchain.retrievers import ContextualCompressionRetriever\n"
   ]
  },
  {
   "cell_type": "code",
   "execution_count": 2,
   "metadata": {},
   "outputs": [],
   "source": [
    "import pymupdf4llm\n",
    "\n",
    "def process_langchain_pdf(file_path):\n",
    "    md_text = pymupdf4llm.to_markdown(file_path)\n",
    "    \n",
    "    headers_to_split_on = [\n",
    "        (\"#\", \"Header 1\"),\n",
    "        (\"##\", \"Header 2\"),\n",
    "        (\"###\", \"Header 3\"),\n",
    "    ]\n",
    "\n",
    "    md_header_splitter = MarkdownHeaderTextSplitter(headers_to_split_on=headers_to_split_on, strip_headers=False)\n",
    "    md_chunks = md_header_splitter.split_text(md_text)\n",
    "\n",
    "    text_splitter = RecursiveCharacterTextSplitter(\n",
    "        chunk_size=512, chunk_overlap=128\n",
    "    )\n",
    "\n",
    "    splits = text_splitter.split_documents(md_chunks)\n",
    "    return splits"
   ]
  },
  {
   "cell_type": "code",
   "execution_count": 3,
   "metadata": {},
   "outputs": [],
   "source": [
    "\"\"\"def process_langchain_pdf(file_path):\n",
    "    text_splitter = RecursiveCharacterTextSplitter(\n",
    "        chunk_size = 512,\n",
    "        chunk_overlap = 32\n",
    "    )\n",
    "    docs = []\n",
    "    \n",
    "    loader = PDFPlumberLoader(file_path)\n",
    "    documents = loader.load_and_split(text_splitter=text_splitter)\n",
    "    docs.extend(documents)\n",
    "    return docs\n",
    "\n",
    "def process_pdf(file_path, chunk_size=324, chunk_overlap=126):\n",
    "   \n",
    "    # PDF 파일 열기\n",
    "    doc = fitz.open(file_path)\n",
    "    text = ''\n",
    "    # 모든 페이지의 텍스트 추출\n",
    "    for page in doc:\n",
    "        text += page.get_text()\n",
    "    # 텍스트를 chunk로 분할\n",
    "    splitter = RecursiveCharacterTextSplitter(\n",
    "        chunk_size=chunk_size,\n",
    "        chunk_overlap=chunk_overlap,\n",
    "\n",
    "    )\n",
    "    chunk_temp = splitter.split_text(text)\n",
    "    # Document 객체 리스트 생성\n",
    "    chunks = [Document(page_content=t) for t in chunk_temp]\n",
    "    return chunks\"\"\"\n",
    "\n",
    "# upskyy/e5-base-korean 5gb BAAI/bge-multilingual-gemma2 : 23GB  intfloat/multilingual-e5-base jhgan/ko-sroberta-multitask BAAI/bge-m3 :16gb\n",
    "def create_vector_db(chunks, model_path=\"upskyy/e5-base-korean\"):\n",
    "    \"\"\"FAISS DB 생성\"\"\"\n",
    "    # 임베딩 모델 설정\n",
    "    model_kwargs = {'device': 'cuda'}\n",
    "    encode_kwargs = {'normalize_embeddings': True}\n",
    "    embeddings = HuggingFaceEmbeddings(\n",
    "        model_name=model_path,\n",
    "        model_kwargs=model_kwargs,\n",
    "        encode_kwargs=encode_kwargs\n",
    "    )\n",
    "    # FAISS DB 생성 및 반환\n",
    "    db = FAISS.from_documents(chunks, embedding=embeddings)\n",
    "    return db\n",
    "\n",
    "def create_bm25(chunks):\n",
    "    \"\"\"bm25_retriever 생성\"\"\"\n",
    "    bm25_retriever = BM25Retriever.from_documents(chunks)\n",
    "    bm25_retriever.k = 4\n",
    "    return bm25_retriever\n",
    "\n",
    "def normalize_path(path):\n",
    "    \"\"\"경로 유니코드 정규화\"\"\"\n",
    "    return unicodedata.normalize('NFC', path)\n",
    "\n",
    "\n",
    "def process_pdfs_from_dataframe(df, base_directory):\n",
    "    \"\"\"딕셔너리에 pdf명을 키로해서 DB, retriever 저장\"\"\"\n",
    "    pdf_databases = {}\n",
    "    unique_paths = df['Source_path'].unique()\n",
    "    \n",
    "    for path in tqdm(unique_paths, desc=\"Processing PDFs\"):\n",
    "        # 경로 정규화 및 절대 경로 생성\n",
    "        normalized_path = normalize_path(path)\n",
    "        full_path = os.path.normpath(os.path.join(base_directory, normalized_path.lstrip('./'))) if not os.path.isabs(normalized_path) else normalized_path\n",
    "        \n",
    "        pdf_title = os.path.splitext(os.path.basename(full_path))[0]\n",
    "        print(f\"Processing {pdf_title}...\")\n",
    "        \n",
    "        # PDF 처리 및 벡터 DB 생성\n",
    "        chunks = process_langchain_pdf(full_path)\n",
    "        db = create_vector_db(chunks)\n",
    "        db2 = create_bm25(chunks)\n",
    "        # Retriever 생성\n",
    "        retriever = db.as_retriever(search_type=\"mmr\", \n",
    "                                    search_kwargs={'k': 4})\n",
    "        ensemble_retriever = EnsembleRetriever(\n",
    "            retrievers=[retriever, db2],  \n",
    "            weights=[0.5, 0.5],  \n",
    "            search_type=\"mmr\",  \n",
    "        )\n",
    "        rerank_model = HuggingFaceCrossEncoder(model_name=\"upskyy/ko-reranker-8k\") #reranker모델 로드 BAAI/bge-reranker-v2-m3 Dongjin-kr/ko-reranker, upskyy/ko-reranker-8k\n",
    "        compressor = CrossEncoderReranker(model=rerank_model, top_n=3)\n",
    "        compression_retriever = ContextualCompressionRetriever(base_compressor=compressor, base_retriever=ensemble_retriever)\n",
    "        \n",
    "        # 결과 저장\n",
    "        pdf_databases[pdf_title] = {\n",
    "                'db': db,\n",
    "                'retriever': compression_retriever\n",
    "        }\n",
    "    return pdf_databases"
   ]
  },
  {
   "cell_type": "code",
   "execution_count": 4,
   "metadata": {},
   "outputs": [
    {
     "name": "stderr",
     "output_type": "stream",
     "text": [
      "Processing PDFs:   0%|          | 0/9 [00:00<?, ?it/s]"
     ]
    },
    {
     "name": "stdout",
     "output_type": "stream",
     "text": [
      "Processing 중소벤처기업부_혁신창업사업화자금(융자)...\n"
     ]
    },
    {
     "name": "stderr",
     "output_type": "stream",
     "text": [
      "d:\\ai_project\\chanyoung\\dacon\\dacon\\Lib\\site-packages\\langchain_core\\_api\\deprecation.py:139: LangChainDeprecationWarning: The class `HuggingFaceEmbeddings` was deprecated in LangChain 0.2.2 and will be removed in 0.3.0. An updated version of the class exists in the langchain-huggingface package and should be used instead. To use it run `pip install -U langchain-huggingface` and import as `from langchain_huggingface import HuggingFaceEmbeddings`.\n",
      "  warn_deprecated(\n",
      "Processing PDFs:  11%|█         | 1/9 [00:04<00:36,  4.57s/it]"
     ]
    },
    {
     "name": "stdout",
     "output_type": "stream",
     "text": [
      "Processing 보건복지부_부모급여(영아수당) 지원...\n"
     ]
    },
    {
     "name": "stderr",
     "output_type": "stream",
     "text": [
      "Processing PDFs:  22%|██▏       | 2/9 [00:09<00:32,  4.60s/it]"
     ]
    },
    {
     "name": "stdout",
     "output_type": "stream",
     "text": [
      "Processing 보건복지부_노인장기요양보험 사업운영...\n"
     ]
    },
    {
     "name": "stderr",
     "output_type": "stream",
     "text": [
      "Processing PDFs:  33%|███▎      | 3/9 [00:14<00:29,  4.94s/it]"
     ]
    },
    {
     "name": "stdout",
     "output_type": "stream",
     "text": [
      "Processing 산업통상자원부_에너지바우처...\n"
     ]
    },
    {
     "name": "stderr",
     "output_type": "stream",
     "text": [
      "Processing PDFs:  44%|████▍     | 4/9 [00:19<00:24,  4.81s/it]"
     ]
    },
    {
     "name": "stdout",
     "output_type": "stream",
     "text": [
      "Processing 국토교통부_행복주택출자...\n"
     ]
    },
    {
     "name": "stderr",
     "output_type": "stream",
     "text": [
      "Processing PDFs:  56%|█████▌    | 5/9 [00:23<00:18,  4.68s/it]"
     ]
    },
    {
     "name": "stdout",
     "output_type": "stream",
     "text": [
      "Processing 「FIS 이슈 & 포커스」 22-4호 《중앙-지방 간 재정조정제도》...\n"
     ]
    },
    {
     "name": "stderr",
     "output_type": "stream",
     "text": [
      "Processing PDFs:  67%|██████▋   | 6/9 [00:29<00:15,  5.08s/it]"
     ]
    },
    {
     "name": "stdout",
     "output_type": "stream",
     "text": [
      "Processing 「FIS 이슈 & 포커스」 23-2호 《핵심재정사업 성과관리》...\n"
     ]
    },
    {
     "name": "stderr",
     "output_type": "stream",
     "text": [
      "Processing PDFs:  78%|███████▊  | 7/9 [00:35<00:10,  5.42s/it]"
     ]
    },
    {
     "name": "stdout",
     "output_type": "stream",
     "text": [
      "Processing 「FIS 이슈&포커스」 22-2호 《재정성과관리제도》...\n"
     ]
    },
    {
     "name": "stderr",
     "output_type": "stream",
     "text": [
      "Processing PDFs:  89%|████████▉ | 8/9 [00:40<00:05,  5.36s/it]"
     ]
    },
    {
     "name": "stdout",
     "output_type": "stream",
     "text": [
      "Processing 「FIS 이슈 & 포커스」(신규) 통권 제1호 《우발부채》...\n"
     ]
    },
    {
     "name": "stderr",
     "output_type": "stream",
     "text": [
      "Processing PDFs: 100%|██████████| 9/9 [00:46<00:00,  5.17s/it]\n"
     ]
    }
   ],
   "source": [
    "base_directory = 'open' # Your Base Directory\n",
    "df = pd.read_csv('open/test.csv')\n",
    "pdf_databases = process_pdfs_from_dataframe(df, base_directory)"
   ]
  },
  {
   "cell_type": "code",
   "execution_count": 5,
   "metadata": {},
   "outputs": [
    {
     "data": {
      "text/plain": [
       "[Document(metadata={'Header 1': '나. 사업설명자료', 'Header 2': '1) 사업목적·내용'}, page_content='# 나. 사업설명자료  \\n## 1) 사업목적·내용  \\n(단위: 백만원)  \\n-  국민의 행복주거 실현을 위한 보편적 주거복지 정책의 일환으로 도심 내 다양한  \\n부지를 활용하여 행복주택을 공급'),\n",
       " Document(metadata={'Header 1': '나. 사업설명자료', 'Header 2': '2) 사업개요'}, page_content='|내역사업명|구분|피보조ㆍ 피출연 등 기관명|지원 금액 (2024계획)|지원 비율(%)|보조율 법적근거 (해당 조항)|\\n|---|---|---|---|---|---|\\n|행복주택 출자|출자|LH|373,886|30|공공주택 특별법 제3조의2(공공주택의 재원ㆍ세 재지원 등)|\\n||보자|지자체|154,897|||\\n||합계||528,783|||  \\n피보조ㆍ  \\n지원 금액 지원  \\n내역사업명 구분 피출연 등 보조율 법적근거 (해당 조항)  \\n(2024계획) 비율(%)  \\n기관명  \\n출자 LH 373,886  \\n행복주택 공공주택 특별법 제3조의2(공공주택의 재원ㆍ세  \\n보자 지자체 154,897 30  \\n출자 재지원 등)  \\n합계 528,783  \\n-----'),\n",
       " Document(metadata={'Header 2': '사  업  명'}, page_content='## 사  업  명  \\n(26) 행복주택출자 (1440-408)  \\n|□사업|업 코드 정보|Col3|Col4|Col5|Col6|Col7|\\n|---|---|---|---|---|---|---|\\n|구분|기금|소관|실국(기관)|계정|분야|부문|\\n|코드|주택도시기금|국토교통부|주택토지실|주택계정|080|088|\\n|명칭|||||사회복지|주택|  \\n|□사업 구분 코드 명칭|업 코드 정보 기금 소관 주택도시기금 국토교통부|실국(기관) 계정 주택토지실 주택계정|분야 부문 080 088 사회복지 주택|\\n|---|---|---|---|\\n|구분|프로그램|단위사업|세부사업|\\n|코드|1400|1440|408|\\n|명칭|임대주택지원(출자)|임대주택지원|행복주택출자|'),\n",
       " Document(metadata={'Header 1': '나. 사업설명자료', 'Header 2': '2) 사업개요'}, page_content=\"-  ('13∼'17년간) 행복주택20 → 14만호, 국민임대등6 → 11만호, 민간임대5→ 6만호  \\n-  '16.04 4.28 맞춤형 주거지원을 통한 주거비 경감방안 발표  \\n-  '17년행복주택공급물량을1만호확대하여전체공급물량을14만호 → 15만호로확대  \\n-  ’17.11 사회통합형 주거사다리 구축을 위한 주거복지로드맵 발표  \\n(공공건설임대주택 연평균 7.0만호 공급)  \\n-  ’20.03 주거복지로드맵 2.0 발표  \\n(공공임대주택 연평균 14.0만호 공급)  \\n-  ’21.02 ｢공공주도 3080+｣대도시권 주택공급 확대방안 발표(공공임대주택 확대 공급)  \\n｣  \\n-  ’23.01 ｢서민‧취약계층 주거복지 강화 방안｣ 발표(공공임대주택 연평균 10만호)  \\n‧  \\n｣  \\n□ 주요내용  \\n① 사업규모  \\n-  사업기간 : ’13~계속  \\n-  최근 5년 간 투입된 사업비(예산액기준, 추경편성한 연도에는 추경포함)  \\n|연도|2020|2021|2022|2023|2024|\")]"
      ]
     },
     "execution_count": 5,
     "metadata": {},
     "output_type": "execute_result"
    }
   ],
   "source": [
    "pdf_databases['국토교통부_행복주택출자']['retriever'].invoke('행복주택출자 사업의 사업비 추이는 어떠한가?')"
   ]
  },
  {
   "cell_type": "code",
   "execution_count": 6,
   "metadata": {},
   "outputs": [
    {
     "name": "stderr",
     "output_type": "stream",
     "text": [
      "Loading checkpoint shards: 100%|██████████| 2/2 [00:07<00:00,  3.78s/it]\n",
      "d:\\ai_project\\chanyoung\\dacon\\dacon\\Lib\\site-packages\\langchain_core\\_api\\deprecation.py:139: LangChainDeprecationWarning: The class `HuggingFacePipeline` was deprecated in LangChain 0.0.37 and will be removed in 0.3. An updated version of the class exists in the langchain-huggingface package and should be used instead. To use it run `pip install -U langchain-huggingface` and import as `from langchain_huggingface import HuggingFacePipeline`.\n",
      "  warn_deprecated(\n"
     ]
    }
   ],
   "source": [
    "def setup_llm_pipeline():\n",
    "    # 4비트 양자화 설정\n",
    "    bnb_config = BitsAndBytesConfig(\n",
    "        load_in_4bit=True,\n",
    "        bnb_4bit_use_double_quant=True,\n",
    "        bnb_4bit_quant_type=\"nf4\",\n",
    "        bnb_4bit_compute_dtype=torch.bfloat16\n",
    "    )\n",
    "\n",
    "    # 모델 ID  chan1121/dacon-9b rtzr/ko-gemma-2-9b-it sh2orc/Llama-3.1-Korean-8B-Instruct\n",
    "    model_id = \"chan1121/geamma2-dacon-9b\"  \n",
    "    # 토크나이저 로드 및 설정\n",
    "    tokenizer = AutoTokenizer.from_pretrained(model_id)\n",
    "    tokenizer.use_default_system_prompt = False\n",
    "    pad_token_id = tokenizer.eos_token_id\n",
    "    # 모델 로드 및 양자화 설정 적용\n",
    "    model = AutoModelForCausalLM.from_pretrained(\n",
    "        model_id,\n",
    "        quantization_config=bnb_config,\n",
    "        device_map=\"auto\",\n",
    "        trust_remote_code=True,\n",
    "        do_sample=True)\n",
    "\n",
    "    # HuggingFacePipeline 객체 생성\n",
    "    text_generation_pipeline = pipeline(\n",
    "        model=model,\n",
    "        tokenizer=tokenizer,\n",
    "        task=\"text-generation\",\n",
    "        temperature=0.1,\n",
    "        top_k=50, # 다음 토큰을 선택할 때 상위 k개의 후보 토큰 중에서 선택. 여기에서는 상위 50개의 후보 토큰 중에서 샘플링\n",
    "        #top_p=0.95, # 누적 확률이 p가 될 때까지 후보 토큰을 포함\n",
    "        repetition_penalty=1.2, # 반복 패널티를 적용하여 같은 단어나 구절이 반복되는 것 방지\n",
    "        return_full_text=False,\n",
    "        max_new_tokens=400,\n",
    "        pad_token_id=pad_token_id,\n",
    "    )\n",
    "\n",
    "    hf = HuggingFacePipeline(pipeline=text_generation_pipeline)\n",
    "\n",
    "    return hf\n",
    "\n",
    "# LLM 파이프라인\n",
    "llm = setup_llm_pipeline()"
   ]
  },
  {
   "cell_type": "code",
   "execution_count": 6,
   "metadata": {},
   "outputs": [
    {
     "name": "stderr",
     "output_type": "stream",
     "text": [
      "Answering Questions:   0%|          | 0/98 [00:00<?, ?it/s]"
     ]
    },
    {
     "name": "stdout",
     "output_type": "stream",
     "text": [
      "Question: 2022년 혁신창업사업화자금(융자)의 예산은 얼마인가요?\n"
     ]
    },
    {
     "name": "stderr",
     "output_type": "stream",
     "text": [
      "Answering Questions:   1%|          | 1/98 [00:03<05:37,  3.47s/it]"
     ]
    },
    {
     "name": "stdout",
     "output_type": "stream",
     "text": [
      "Answer: 2022년 혁신창업사업화자금(융자)의 예산은 2,300,000백만원입니다.\n",
      "\n",
      "Question: 중소벤처기업부의 혁신창업사업화자금(융자) 사업목적은 무엇인가요?\n"
     ]
    },
    {
     "name": "stderr",
     "output_type": "stream",
     "text": [
      "Answering Questions:   2%|▏         | 2/98 [00:05<04:30,  2.82s/it]"
     ]
    },
    {
     "name": "stdout",
     "output_type": "stream",
     "text": [
      "Answer: 기술력과 사업성이 우수한 중소벤처기업의 창업 활성화와 고용창출을 도모하고, 중소기업의 우수 기술을 사업화하여 기술기반 중소기업을 육성하는 것입니다.\n",
      "\n",
      "Question: 중소벤처기업부의 혁신창업사업화자금(융자) 사업근거는 어떤 법률에 근거하고 있나요?\n"
     ]
    },
    {
     "name": "stderr",
     "output_type": "stream",
     "text": [
      "Answering Questions:   3%|▎         | 3/98 [00:08<04:06,  2.60s/it]"
     ]
    },
    {
     "name": "stdout",
     "output_type": "stream",
     "text": [
      "Answer: 중소기업진흥에 관한 법률 제66조, 제67조, 제74조와 중소기업창업지원법 제35조에 근거하고 있습니다.\n",
      "\n",
      "Question: 2010년에 신규 지원된 혁신창업사업화자금은 무엇인가요?\n"
     ]
    },
    {
     "name": "stderr",
     "output_type": "stream",
     "text": [
      "Answering Questions:   4%|▍         | 4/98 [00:11<04:14,  2.71s/it]"
     ]
    },
    {
     "name": "stdout",
     "output_type": "stream",
     "text": [
      "Answer: 2010년에 신규 지원된 것은 재창업자금(실패 경영인에 대한 재기지원)입니다.\n",
      "\n",
      "Question: 혁신창업사업화자금 중 2020년에 신규 지원된 자금은 무엇인가요?\n"
     ]
    },
    {
     "name": "stderr",
     "output_type": "stream",
     "text": [
      "Answering Questions:   5%|▌         | 5/98 [00:13<03:52,  2.50s/it]"
     ]
    },
    {
     "name": "stdout",
     "output_type": "stream",
     "text": [
      "Answer: 2020년에는 미래기술육성자금과 고성장촉진자금이 신규 지원되었습니다.\n",
      "\n",
      "Question: 재창업자금이 재도약지원자금으로 이관된 연도는 언제인가요?\n"
     ]
    },
    {
     "name": "stderr",
     "output_type": "stream",
     "text": [
      "Answering Questions:   6%|▌         | 6/98 [00:15<03:46,  2.46s/it]"
     ]
    },
    {
     "name": "stdout",
     "output_type": "stream",
     "text": [
      "Answer: 2015년 1월에 재창업자금이 재도약지원자금(융자)의 내역사업으로 이관되었습니다.\n",
      "\n",
      "Question: 창업기반지원과 신청 대상이 중복인 자금이 어떤 것이며, 이 자금이 폐지된 연도는 언제인가요?\n"
     ]
    },
    {
     "name": "stderr",
     "output_type": "stream",
     "text": [
      "Answering Questions:   7%|▋         | 7/98 [00:19<04:21,  2.87s/it]"
     ]
    },
    {
     "name": "stdout",
     "output_type": "stream",
     "text": [
      "Answer: 일자리창출촉진자금이 창업기반지원과 신청 대상이 중복되어 2023년 1월에 폐지되었습니다.\n",
      "\n",
      "Question: 혁신창업사업화자금(융자) 사업을 시행하는 주체는 누구인가요?\n"
     ]
    },
    {
     "name": "stderr",
     "output_type": "stream",
     "text": [
      "Answering Questions:   8%|▊         | 8/98 [00:21<04:03,  2.71s/it]"
     ]
    },
    {
     "name": "stdout",
     "output_type": "stream",
     "text": [
      "Answer: 중소벤처기업진흥공단이 혁신창업사업화자금(융자) 사업을 시행하는 주체입니다.\n",
      "\n",
      "Question: 혁신창업사업화자금(융자) 사업 집행절차는 어떻게 되나요?\n"
     ]
    },
    {
     "name": "stderr",
     "output_type": "stream",
     "text": [
      "Answering Questions:   9%|▉         | 9/98 [00:24<04:18,  2.91s/it]"
     ]
    },
    {
     "name": "stdout",
     "output_type": "stream",
     "text": [
      "Answer: 사업계획수립/공고 → 사전상담 및 신청 → 접수 → 서류 및 현장실사 → 평가 및 승인 → 지원결정통보 → 융자 실행의 순서로 진행됩니다.\n",
      "\n",
      "Question: 부모급여 지원 사업의 목적은 무엇인가요?\n"
     ]
    },
    {
     "name": "stderr",
     "output_type": "stream",
     "text": [
      "Answering Questions:  10%|█         | 10/98 [00:30<05:36,  3.82s/it]"
     ]
    },
    {
     "name": "stdout",
     "output_type": "stream",
     "text": [
      "Answer: 부모급여 지원 사업의 목적은 출산 및 양육으로 인한 소득 손실을 보전하고 영아기 돌봄을 두텁게 지원하는 것입니다.\n",
      "\n",
      "Question: 부모급여(영아수당)의 2024년 확정된 예산은 몇백만원인가요?\n"
     ]
    },
    {
     "name": "stderr",
     "output_type": "stream",
     "text": [
      "Answering Questions:  11%|█         | 11/98 [00:34<05:19,  3.67s/it]"
     ]
    },
    {
     "name": "stdout",
     "output_type": "stream",
     "text": [
      "Answer: 부모급여(영아수당)의 2024년 확정된 예산은 2,888,694백만원입니다.\n",
      "\n",
      "Question: 부모급여 지원 사업은 어떤 법령상 근거를 갖고 추진되고 있나요?\n"
     ]
    },
    {
     "name": "stderr",
     "output_type": "stream",
     "text": [
      "Answering Questions:  12%|█▏        | 12/98 [00:36<04:32,  3.17s/it]"
     ]
    },
    {
     "name": "stdout",
     "output_type": "stream",
     "text": [
      "Answer: 부모급여 지원 사업은 아동수당법 제4조제5항을 법령상 근거로 추진되고 있습니다.\n",
      "\n",
      "Question: 영아수당 도입에 대한 추진경위는 어떻게 되나요?\n"
     ]
    },
    {
     "name": "stderr",
     "output_type": "stream",
     "text": [
      "Answering Questions:  13%|█▎        | 13/98 [00:39<04:25,  3.13s/it]"
     ]
    },
    {
     "name": "stdout",
     "output_type": "stream",
     "text": [
      "Answer: 영아수당은 예비타당성조사 통과('21.8.), 근거법 마련('21.12.)을 거쳐 2022년 1월부터 시행되었습니다.\n",
      "\n",
      "Question: 부모급여 지원사업은 언제부터 시행되었나요?\n"
     ]
    },
    {
     "name": "stderr",
     "output_type": "stream",
     "text": [
      "Answering Questions:  14%|█▍        | 14/98 [00:47<06:20,  4.53s/it]"
     ]
    },
    {
     "name": "stdout",
     "output_type": "stream",
     "text": [
      "Answer: 부모급여 지원사업은 2023년 1월부터 시행되었습니다.\n",
      "\n",
      "Question: 보건복지부의 부모급여(영아수당) 지원 사업시행방법은 무엇이며, 사업 수혜자는 누구인가?\n"
     ]
    },
    {
     "name": "stderr",
     "output_type": "stream",
     "text": [
      "Answering Questions:  15%|█▌        | 15/98 [00:49<05:28,  3.96s/it]"
     ]
    },
    {
     "name": "stdout",
     "output_type": "stream",
     "text": [
      "Answer: 사업시행방법은 지자체 보조이며, 사업 수혜자는 만 0~1세 아동입니다.\n",
      "\n",
      "Question: 노인장기요양보험 사업 운영에 대한 목적은 무엇인가요?\n"
     ]
    },
    {
     "name": "stderr",
     "output_type": "stream",
     "text": [
      "Answering Questions:  16%|█▋        | 16/98 [00:52<05:06,  3.74s/it]"
     ]
    },
    {
     "name": "stdout",
     "output_type": "stream",
     "text": [
      "Answer: 고령이나 노인성 질병으로 일상생활을 혼자서 수행하기 어려운 노인 등에게 신체 또는 가사 활동 등을 제공하는 노인장기요양보험에 국고를 지원하는 것입니다.\n",
      "\n",
      "Question: 노인장기요양보험 운영지원에 대한 사업 내용을 설명해줘.\n"
     ]
    },
    {
     "name": "stderr",
     "output_type": "stream",
     "text": [
      "Answering Questions:  17%|█▋        | 17/98 [00:56<05:02,  3.74s/it]"
     ]
    },
    {
     "name": "stdout",
     "output_type": "stream",
     "text": [
      "Answer: 노인장기요양보험 운영지원은 일상생활을 혼자 수행하기 어려운 노인에게 신체 활동이나 가사 활동 지원을 제공하는 보험 제도의 운영을 지원하는 사업입니다.\n",
      "\n",
      "Question: 국고지원을 받는 기타 의료급여수급권자는 누구인가요?\n"
     ]
    },
    {
     "name": "stderr",
     "output_type": "stream",
     "text": [
      "Answering Questions:  18%|█▊        | 18/98 [00:58<04:19,  3.24s/it]"
     ]
    },
    {
     "name": "stdout",
     "output_type": "stream",
     "text": [
      "Answer: 기타 의료급여수급권자는 이재민, 의사상자, 국가유공자, 입양아동, 국가무형문화재보유자, 북한이탈주민 등입니다.\n",
      "\n",
      "Question: 장기요양보험가입자 및 피부양자의 자격취득과 관련하여 어떤 법률을 준용해야 하는가?\n"
     ]
    },
    {
     "name": "stderr",
     "output_type": "stream",
     "text": [
      "Answering Questions:  19%|█▉        | 19/98 [01:01<04:05,  3.11s/it]"
     ]
    },
    {
     "name": "stdout",
     "output_type": "stream",
     "text": [
      "Answer: 노인장기요양보험법 제11조에 따라 국민건강보험법 제5조, 제6조, 제8조부터 제11조까지의 조항을 준용해야 합니다.\n",
      "\n",
      "Question: 노인장기요양보험법이 언제 제정되고 공포되었나?\n"
     ]
    },
    {
     "name": "stderr",
     "output_type": "stream",
     "text": [
      "Answering Questions:  20%|██        | 20/98 [01:04<04:03,  3.12s/it]"
     ]
    },
    {
     "name": "stdout",
     "output_type": "stream",
     "text": [
      "Answer: 노인장기요양보험법은 2007년 4월에 제정 및 공포되었습니다.\n",
      "\n",
      "Question: 장기요양인정점수 완화가 언제 이루어졌으며, 어떤 변화가 있었나?\n"
     ]
    },
    {
     "name": "stderr",
     "output_type": "stream",
     "text": [
      "Answering Questions:  21%|██▏       | 21/98 [01:08<04:12,  3.28s/it]"
     ]
    },
    {
     "name": "stdout",
     "output_type": "stream",
     "text": [
      "Answer: 3등급 인정점수가 기존 53~75점에서 51~75점으로 완화되었습니다.\n",
      "\n",
      "Question: 장기요양기관 지정갱신제의 법적 근거가 언제 마련되었는가?\n"
     ]
    },
    {
     "name": "stderr",
     "output_type": "stream",
     "text": [
      "Answering Questions:  22%|██▏       | 22/98 [01:11<04:00,  3.17s/it]"
     ]
    },
    {
     "name": "stdout",
     "output_type": "stream",
     "text": [
      "Answer: 장기요양기관 지정갱신제의 법적 근거는 2018년 12월에 마련되었습니다.\n",
      "\n",
      "Question: 22.10월에 요양보호사 1명당 시설수급자 인력배치기준이 개선된 내용은 무엇인가?\n"
     ]
    },
    {
     "name": "stderr",
     "output_type": "stream",
     "text": [
      "Answering Questions:  23%|██▎       | 23/98 [01:14<03:53,  3.11s/it]"
     ]
    },
    {
     "name": "stdout",
     "output_type": "stream",
     "text": [
      "Answer: 요양보호사 1명당 시설수급자 인력배치기준이 2.5명에서 2.3명으로 개선되었습니다.\n",
      "\n",
      "Question: 에너지 바우처 제도의 주요 내용은 무엇인가요?\n"
     ]
    },
    {
     "name": "stderr",
     "output_type": "stream",
     "text": [
      "Answering Questions:  24%|██▍       | 24/98 [01:17<03:57,  3.21s/it]"
     ]
    },
    {
     "name": "stdout",
     "output_type": "stream",
     "text": [
      "Answer: 에너지바우처는 동·하절기(7월~다음해 4월) 동안 저소득층의 에너지 비용을 지원하는 제도입니다.\n",
      "\n",
      "Question: 에너지바우처 사업의 주요 수혜자는 누구인가요?\n"
     ]
    },
    {
     "name": "stderr",
     "output_type": "stream",
     "text": [
      "Answering Questions:  26%|██▌       | 25/98 [01:20<03:42,  3.05s/it]"
     ]
    },
    {
     "name": "stdout",
     "output_type": "stream",
     "text": [
      "Answer: 에너지바우처 사업의 주요 수혜자는 저소득층, 중증 및 희귀난치성질환자 세대, 한부모 및 소년소녀가정세대입니다.\n",
      "\n",
      "Question: 2024년 에너지바우처 사업의 사업시행주체는 무엇인가요?\n"
     ]
    },
    {
     "name": "stderr",
     "output_type": "stream",
     "text": [
      "Answering Questions:  27%|██▋       | 26/98 [01:23<03:37,  3.02s/it]"
     ]
    },
    {
     "name": "stdout",
     "output_type": "stream",
     "text": [
      "Answer: 주어진 정보만으로는 2024년 에너지바우처 사업의 구체적인 사업시행주체를 명확히 알 수 없습니다.\n",
      "\n",
      "Question: 하절기바우처와 동절기바우처의 2024년 예산 규모는 각각 얼마인가요?\n"
     ]
    },
    {
     "name": "stderr",
     "output_type": "stream",
     "text": [
      "Answering Questions:  28%|██▊       | 27/98 [01:26<03:31,  2.97s/it]"
     ]
    },
    {
     "name": "stdout",
     "output_type": "stream",
     "text": [
      "Answer: 2024년 예산에서 하절기바우처는 60,950백만원, 동절기바우처는 600,521백만원입니다.\n",
      "\n",
      "Question: 2023년 에너지바우처 사업 예산에서 사업운영비 중 에너지복지 홍보에 얼마가 할당되었나요?\n"
     ]
    },
    {
     "name": "stderr",
     "output_type": "stream",
     "text": [
      "Answering Questions:  29%|██▊       | 28/98 [01:28<03:18,  2.83s/it]"
     ]
    },
    {
     "name": "stdout",
     "output_type": "stream",
     "text": [
      "Answer: 2023년 에너지바우처 사업 예산에서 에너지복지 홍보에 448백만원이 할당되었습니다.\n",
      "\n",
      "Question: 2023년 에너지바우처 사업 예산에서 사업운영비 중 시스템 고도화에 얼마가 할당되었나요?\n"
     ]
    },
    {
     "name": "stderr",
     "output_type": "stream",
     "text": [
      "Answering Questions:  30%|██▉       | 29/98 [01:31<03:13,  2.80s/it]"
     ]
    },
    {
     "name": "stdout",
     "output_type": "stream",
     "text": [
      "Answer: 2023년 에너지바우처 사업 예산의 사업운영비 중 시스템 고도화에는 705백만원이 할당되었습니다.\n",
      "\n",
      "Question: 2023년 에너지바우처 사업 예산에서 콜센터 운영에 얼마가 할당되었나요?\n"
     ]
    },
    {
     "name": "stderr",
     "output_type": "stream",
     "text": [
      "Answering Questions:  31%|███       | 30/98 [01:33<02:57,  2.61s/it]"
     ]
    },
    {
     "name": "stdout",
     "output_type": "stream",
     "text": [
      "Answer: 2023년 에너지바우처 사업 예산에서 콜센터 운영에 280백만원이 할당되었습니다.\n",
      "\n",
      "Question: 2023년 에너지바우처 사업 예산에서 패널조사에 얼마가 할당되었나요?\n"
     ]
    },
    {
     "name": "stderr",
     "output_type": "stream",
     "text": [
      "Answering Questions:  32%|███▏      | 31/98 [01:35<02:40,  2.40s/it]"
     ]
    },
    {
     "name": "stdout",
     "output_type": "stream",
     "text": [
      "Answer: 2023년 에너지바우처 사업 예산에서 패널조사에 133.5백만원이 할당되었습니다.\n",
      "\n",
      "Question: 2023년 에너지바우처 사업 예산에서 에너지바우처 전달체계 구축에 얼마가 할당되었나요?\n"
     ]
    },
    {
     "name": "stderr",
     "output_type": "stream",
     "text": [
      "Answering Questions:  33%|███▎      | 32/98 [01:36<02:19,  2.12s/it]"
     ]
    },
    {
     "name": "stdout",
     "output_type": "stream",
     "text": [
      "Answer: 2023년 에너지바우처 사업 예산에서 에너지바우처 전달체계 구축에 37.5백만원이 할당되었습니다.\n",
      "\n",
      "Question: 2023년 에너지바우처 사업 예산에서 주택관리공단 운영지원에 얼마가 할당되었나요?\n"
     ]
    },
    {
     "name": "stderr",
     "output_type": "stream",
     "text": [
      "Answering Questions:  34%|███▎      | 33/98 [01:38<02:07,  1.96s/it]"
     ]
    },
    {
     "name": "stdout",
     "output_type": "stream",
     "text": [
      "Answer: 2023년 에너지바우처 사업 예산에서 주택관리공단 운영지원에 50백만원이 할당되었습니다.\n",
      "\n",
      "Question: 에너지바우처 사업의 향후 기대효과는 무엇인가요?\n"
     ]
    },
    {
     "name": "stderr",
     "output_type": "stream",
     "text": [
      "Answering Questions:  35%|███▍      | 34/98 [01:40<02:10,  2.04s/it]"
     ]
    },
    {
     "name": "stdout",
     "output_type": "stream",
     "text": [
      "Answer: 저소득층의 적정수준 에너지 접근성이 높아지고, 취약계층의 에너지 비용 부담이 경감될 것으로 기대됩니다 (약 115만 세대, 세대당 평균 36.7만원 내외).\n",
      "\n",
      "Question: 에너지바우처 사업에 대한 예비타당성조사를 어떤 조사기관이 수행했나요?\n"
     ]
    },
    {
     "name": "stderr",
     "output_type": "stream",
     "text": [
      "Answering Questions:  36%|███▌      | 35/98 [01:43<02:14,  2.14s/it]"
     ]
    },
    {
     "name": "stdout",
     "output_type": "stream",
     "text": [
      "Answer: KDI(한국개발연구원 공공투자관리센터)가 에너지바우처 사업에 대한 예비타당성조사를 수행했습니다.\n",
      "\n",
      "Question: 21년 국정감사에서 에너지 바우처 사업에 대한 주요 지적사항은 무엇이었나요?\n"
     ]
    },
    {
     "name": "stderr",
     "output_type": "stream",
     "text": [
      "Answering Questions:  37%|███▋      | 36/98 [01:45<02:20,  2.26s/it]"
     ]
    },
    {
     "name": "stdout",
     "output_type": "stream",
     "text": [
      "Answer: 저소득층의 폭염 피해 최소화를 위해 동절기 에너지바우처 일부를 하절기에 사용할 수 있도록 제도 개선할 것을 지적했습니다.\n",
      "\n",
      "Question: 21년 에너지바우처 사업에 대한 결산 지적사항은 무엇이었나요?\n"
     ]
    },
    {
     "name": "stderr",
     "output_type": "stream",
     "text": [
      "Answering Questions:  38%|███▊      | 37/98 [01:50<02:59,  2.94s/it]"
     ]
    },
    {
     "name": "stdout",
     "output_type": "stream",
     "text": [
      "Answer: 수급자 변경 등으로 예산부족이 발생하지 않도록 보건복지부·지자체와 면밀히 소통하여 예산을 편성하고 사업을 추진할 것을 지적받았습니다.\n",
      "\n",
      "Question: 에너지 바우처 사업의 향후 추진방향 중 '취약계층의 에너지 비용 부담 완화'를 위한 계획은 무엇이었나요?\n"
     ]
    },
    {
     "name": "stderr",
     "output_type": "stream",
     "text": [
      "Answering Questions:  39%|███▉      | 38/98 [01:54<03:16,  3.28s/it]"
     ]
    },
    {
     "name": "stdout",
     "output_type": "stream",
     "text": [
      "Answer: 지속적 지원단가 현실화를 추진할 계획입니다.\n",
      "\n",
      "Question: 행복주택출자 사업은 어떤 근거로 추진되고 있는가?\n"
     ]
    },
    {
     "name": "stderr",
     "output_type": "stream",
     "text": [
      "Answering Questions:  40%|███▉      | 39/98 [01:57<03:18,  3.36s/it]"
     ]
    },
    {
     "name": "stdout",
     "output_type": "stream",
     "text": [
      "Answer: 행복주택출자 사업은 주택도시기금법 제9조제1항가목과 공공주택특별법 제2조1호가목을 법적 근거로 추진되고 있습니다.\n",
      "\n",
      "Question: 행복주택출자 사업은 어떤 목적으로 시행되는가?\n"
     ]
    },
    {
     "name": "stderr",
     "output_type": "stream",
     "text": [
      "Answering Questions:  41%|████      | 40/98 [02:00<03:02,  3.15s/it]"
     ]
    },
    {
     "name": "stdout",
     "output_type": "stream",
     "text": [
      "Answer: 행복주택출자 사업은 국민의 행복주거 실현을 위한 보편적 주거복지 정책의 일환으로 도심 내 다양한 부지를 활용하여 행복주택을 공급하는 것을 목적으로 합니다.\n",
      "\n",
      "Question: 행복주택출자 사업의 주요 수혜자는 누구인가?\n"
     ]
    },
    {
     "name": "stderr",
     "output_type": "stream",
     "text": [
      "Answering Questions:  42%|████▏     | 41/98 [02:10<04:58,  5.24s/it]"
     ]
    },
    {
     "name": "stdout",
     "output_type": "stream",
     "text": [
      "Answer: 행복주택출자 사업의 주요 수혜자는 대학생, 사회초년생, 신혼부부 등 젊은층(80%)과 고령자 및 주거취약계층(20%)입니다.\n",
      "\n",
      "Question: 행복주택출자 사업의 사업비 추이는 어떠한가?\n"
     ]
    },
    {
     "name": "stderr",
     "output_type": "stream",
     "text": [
      "Answering Questions:  43%|████▎     | 42/98 [02:13<04:13,  4.53s/it]"
     ]
    },
    {
     "name": "stdout",
     "output_type": "stream",
     "text": [
      "Answer: 행복주택출자 사업비는 2020년 684,607백만원에서 2024년 461,607백만원으로 전반적으로 감소하는 추세를 보입니다.\n",
      "\n",
      "Question: 행복주택출자 사업의 사업시행주체는 누구인가?\n"
     ]
    },
    {
     "name": "stderr",
     "output_type": "stream",
     "text": [
      "Answering Questions:  44%|████▍     | 43/98 [02:15<03:27,  3.76s/it]"
     ]
    },
    {
     "name": "stdout",
     "output_type": "stream",
     "text": [
      "Answer: 행복주택출자 사업의 사업시행주체는 한국토지주택공사(LH)와 지자체(지방공사)입니다.\n",
      "\n",
      "Question: 국고보조사업의 보조율은 어떠한 기준에 따라 운용되는가?\n"
     ]
    },
    {
     "name": "stderr",
     "output_type": "stream",
     "text": [
      "Answering Questions:  45%|████▍     | 44/98 [02:20<03:48,  4.23s/it]"
     ]
    },
    {
     "name": "stdout",
     "output_type": "stream",
     "text": [
      "Answer: 국고보조사업의 보조율은 보조금법과 일부 개별 법령에 근거하여 지방자치단체의 재정여건을 고려한 기준보조율과 차등보조율을 적용하여 운용됩니다.\n",
      "\n",
      "Question: 프랑스의 재정조정제도에서 최근 강조되는 형평교부금은 어떤 역할을 하는가?\n"
     ]
    },
    {
     "name": "stderr",
     "output_type": "stream",
     "text": [
      "Answering Questions:  46%|████▌     | 45/98 [02:25<03:55,  4.45s/it]"
     ]
    },
    {
     "name": "stdout",
     "output_type": "stream",
     "text": [
      "Answer: 최근 프랑스에서는 중앙정부의 재정적자로 인해 지방자치단체 간 재원 불균형을 조정하는 수평적 형평교부금의 역할이 강조되고 있습니다.\n",
      "\n",
      "Question: 지방재정조정제도의 목적은 무엇인가?\n"
     ]
    },
    {
     "name": "stderr",
     "output_type": "stream",
     "text": [
      "Answering Questions:  47%|████▋     | 46/98 [02:30<03:49,  4.42s/it]"
     ]
    },
    {
     "name": "stdout",
     "output_type": "stream",
     "text": [
      "Answer: 지방재정조정제도의 목적은 지방자치단체 간 재정력 격차 시정, 지역 간 외부 효과의 내부화를 통한 지방공공재 공급, 중앙정부의 위임사무에 대한 비용 부담 등을 통해 재정을 조정하는 것입니다.\n",
      "\n",
      "Question: 국제적으로 성과중심 재정관리 강화 움직임이 확산된 시기는 언제인가?\n"
     ]
    },
    {
     "name": "stderr",
     "output_type": "stream",
     "text": [
      "Answering Questions:  48%|████▊     | 47/98 [02:40<05:10,  6.09s/it]"
     ]
    },
    {
     "name": "stdout",
     "output_type": "stream",
     "text": [
      "Answer: 2000년대 후반 금융위기 이후 성과중심 재정관리 강화 움직임이 국제적으로 확산되었습니다.\n",
      "\n",
      "Question: 한국의 재정사업 성과관리제도는 어떠한 법을 통해 운영되고 있으며, 성과관리 기본계획과 추진계획은 어떻게 의무화되었는가?\n"
     ]
    },
    {
     "name": "stderr",
     "output_type": "stream",
     "text": [
      "Answering Questions:  49%|████▉     | 48/98 [02:48<05:44,  6.89s/it]"
     ]
    },
    {
     "name": "stdout",
     "output_type": "stream",
     "text": [
      "Answer: 한국의 재정사업 성과관리제도는 2007년부터 「국가재정법」을 통해 운영되어 왔으며, 2021년 12월 법 개정으로 '성과관리 기본계획'(5개년) 및 '추진계획'(연간) 수립이 의무화되었습니다.\n",
      "\n",
      "Question: 핵심재정사업 성과관리제도를 안착시키기 위해 필요한 노력과 성과 정보를 학습의 도구로 활용하는 방안은 무엇인가?\n"
     ]
    },
    {
     "name": "stderr",
     "output_type": "stream",
     "text": [
      "Answering Questions:  50%|█████     | 49/98 [02:55<05:36,  6.88s/it]"
     ]
    },
    {
     "name": "stdout",
     "output_type": "stream",
     "text": [
      "Answer: 성과정보를 사용해 목표 진행 상황을 정기적으로 평가·공개하고, 작업반 간 모범사례 공유를 위한 교훈 저장소를 생성하여 성과중심의 조직문화를 형성해야 합니다.\n",
      "\n",
      "Question: 사회보험 사각지대 발생의 주요 원인과 이로 인해 발생하는 문제는 무엇인가요?\n"
     ]
    },
    {
     "name": "stderr",
     "output_type": "stream",
     "text": [
      "Answering Questions:  51%|█████     | 50/98 [03:05<06:20,  7.92s/it]"
     ]
    },
    {
     "name": "stdout",
     "output_type": "stream",
     "text": [
      "Answer: 사업주의 비용절감 의도와 근로자의 실질 가처분 소득 감소로 인해 사회보험 가입이 저조해져, 특히 고용 취약계층과 소규모 사업장에서 사회보험 사각지대가 발생하고 소득단절 위험이 높아집니다.\n",
      "\n",
      "Question: 청년일자리도약장려금은 어떤 대상을 지원하며, 어떤 방식으로 지원되는가?\n"
     ]
    },
    {
     "name": "stderr",
     "output_type": "stream",
     "text": [
      "Answering Questions:  52%|█████▏    | 51/98 [03:14<06:20,  8.10s/it]"
     ]
    },
    {
     "name": "stdout",
     "output_type": "stream",
     "text": [
      "Answer: 청년일자리도약장려금은 우선지원대상기업이 만 15~34세의 취업애로청년을 정규직으로 채용하고 6개월 고용유지 시 최장 2년간 지원됩니다.\n",
      "\n",
      "Question: 수직적 재정조정제도와 수평적 재정조정제도의 차이는 무엇인가요?\n"
     ]
    },
    {
     "name": "stderr",
     "output_type": "stream",
     "text": [
      "Answering Questions:  53%|█████▎    | 52/98 [03:19<05:33,  7.26s/it]"
     ]
    },
    {
     "name": "stdout",
     "output_type": "stream",
     "text": [
      "Answer: 수직적 재정조정제도는 중앙-지방 간 또는 광역-기초 간 재원을 이전하는 반면, 수평적 재정조정제도는 동일 수준의 지방정부 간 재원을 재배분합니다.\n",
      "\n",
      "Question: 지방재정조정제도는 어떤 목적을 가지고 있나요?\n"
     ]
    },
    {
     "name": "stderr",
     "output_type": "stream",
     "text": [
      "Answering Questions:  54%|█████▍    | 53/98 [03:23<04:41,  6.26s/it]"
     ]
    },
    {
     "name": "stdout",
     "output_type": "stream",
     "text": [
      "Answer: 지방재정조정제도는 지방자치단체 간 재정력 격차 시정, 지역 간 외부 효과 내부화, 중앙정부 위임사무 비용 부담 등을 목적으로 합니다.\n",
      "\n",
      "Question: 중앙-지방 간 재정조정제도에서 어떤 재원을 이전하여 수직적 재정 불균형을 해소하는가?\n"
     ]
    },
    {
     "name": "stderr",
     "output_type": "stream",
     "text": [
      "Answering Questions:  55%|█████▌    | 54/98 [03:30<04:42,  6.42s/it]"
     ]
    },
    {
     "name": "stdout",
     "output_type": "stream",
     "text": [
      "Answer: 지방교부세, 국고보조금을 이전하여 수직적 재정 불균형을 해소합니다.\n",
      "\n",
      "Question: 중앙정부의 예산편성은 어떤 재원 배분 문제를 결정하며, 중앙-지방 간 재정조정제도를 통해 어떤 재원을 이전하고, 이의 목적은 무엇인가?\n"
     ]
    },
    {
     "name": "stderr",
     "output_type": "stream",
     "text": [
      "Answering Questions:  56%|█████▌    | 55/98 [03:37<04:45,  6.63s/it]"
     ]
    },
    {
     "name": "stdout",
     "output_type": "stream",
     "text": [
      "Answer: 중앙정부의 예산편성은 민간과 공공 부문 간 재원 배분을 결정하며, 중앙-지방 간 재정조정제도를 통해 지방교부세와 국고보조금 등을 이전하여 지방정부의 기능 수행과 국가 균형발전을 목적으로 합니다.\n",
      "\n",
      "Question: 재정사업 성과관리제도의 필요성이 대두된 시기와 한국의 재정사업 성과관리제도가 어떤 법에 근거하여 운영되고 있는지 설명하시오.\n"
     ]
    },
    {
     "name": "stderr",
     "output_type": "stream",
     "text": [
      "Answering Questions:  57%|█████▋    | 56/98 [03:47<05:18,  7.58s/it]"
     ]
    },
    {
     "name": "stdout",
     "output_type": "stream",
     "text": [
      "Answer: 재정사업 성과관리제도의 필요성은 1990년대에 대두되었으며, 한국의 재정사업 성과관리제도는 2007년부터 시행된 「국가재정법」에 근거하여 운영되고 있습니다.\n",
      "\n",
      "Question: 청년일자리도약장려금은 어떤 대상을 지원하며, 어떤 방식으로 지원되는가?\n"
     ]
    },
    {
     "name": "stderr",
     "output_type": "stream",
     "text": [
      "Answering Questions:  58%|█████▊    | 57/98 [03:55<05:15,  7.69s/it]"
     ]
    },
    {
     "name": "stdout",
     "output_type": "stream",
     "text": [
      "Answer: 청년일자리도약장려금은 우선지원대상기업에서 만 15~34세의 취업애로청년을 정규직으로 채용 후 6개월 고용유지하는 경우 최장 2년간 지원됩니다.\n",
      "\n",
      "Question: 재정성과관리제도는 어떤 측면에서 국정운영과 연결되는가?\n"
     ]
    },
    {
     "name": "stderr",
     "output_type": "stream",
     "text": [
      "Answering Questions:  59%|█████▉    | 58/98 [04:03<05:15,  7.90s/it]"
     ]
    },
    {
     "name": "stdout",
     "output_type": "stream",
     "text": [
      "Answer: 재정성과관리제도는 전략목표와 우선순위를 중심으로 재정사업을 재구조화한다는 점에서 국정운영과 연결됩니다.\n",
      "\n",
      "Question: 성과관리의 실효성 강화를 위해 정부가 취한 조치는 무엇인가?\n"
     ]
    },
    {
     "name": "stderr",
     "output_type": "stream",
     "text": [
      "Answering Questions:  60%|██████    | 59/98 [04:11<05:09,  7.93s/it]"
     ]
    },
    {
     "name": "stdout",
     "output_type": "stream",
     "text": [
      "Answer: 정부는 2021년 「국가재정법」 개정을 통해 성과 중심 재정운용 강화를 위해 성과관리를 위한 별도의 장을 신설하고 성과관리 규정을 정비했습니다.\n",
      "\n",
      "Question: 재정성과관리 관련 주요 쟁점은 무엇인가?\n"
     ]
    },
    {
     "name": "stderr",
     "output_type": "stream",
     "text": [
      "Answering Questions:  61%|██████    | 60/98 [04:22<05:34,  8.80s/it]"
     ]
    },
    {
     "name": "stdout",
     "output_type": "stream",
     "text": [
      "Answer: 재정사업 자율평가의 개선과 평가 중복 최소화, 그리고 재정성과관리 결과의 재정 운용 반영 및 국민에게 알기 쉬운 공개가 주요 쟁점입니다.\n",
      "\n",
      "Question: 재정성과관리가 왜 중요한가?\n"
     ]
    },
    {
     "name": "stderr",
     "output_type": "stream",
     "text": [
      "Answering Questions:  62%|██████▏   | 61/98 [04:31<05:27,  8.86s/it]"
     ]
    },
    {
     "name": "stdout",
     "output_type": "stream",
     "text": [
      "Answer: 재정성과관리는 재정을 결과 지향적으로 운영하여 산출의 우선순위를 명확히 하고 국민에게 재정 활동을 알기 쉽게 설명할 수 있기 때문에 중요합니다.\n",
      "\n",
      "Question: 재정성과관리는 무엇을 목표로 하는가?\n"
     ]
    },
    {
     "name": "stderr",
     "output_type": "stream",
     "text": [
      "Answering Questions:  63%|██████▎   | 62/98 [04:42<05:44,  9.57s/it]"
     ]
    },
    {
     "name": "stdout",
     "output_type": "stream",
     "text": [
      "Answer: 재정성과관리의 최종 목표는 국민이 정부가 하는 일의 목표에서 성과에 이르는 전과정을 투명하게 알 수 있게 하는 것입니다.\n",
      "\n",
      "Question: 어떤 국제기구들이 사업을 기준으로 예산을 나누어 성과 정보를 생산하고 있는가?\n"
     ]
    },
    {
     "name": "stderr",
     "output_type": "stream",
     "text": [
      "Answering Questions:  64%|██████▍   | 63/98 [04:51<05:27,  9.36s/it]"
     ]
    },
    {
     "name": "stdout",
     "output_type": "stream",
     "text": [
      "Answer: OECD와 World Bank가 2000년대부터 사업을 기준으로 예산을 나누어 성과 정보를 생산할 것을 강조하기 시작했습니다.\n",
      "\n",
      "Question: 재정성과관리의 목적은 무엇인가?\n"
     ]
    },
    {
     "name": "stderr",
     "output_type": "stream",
     "text": [
      "Answering Questions:  65%|██████▌   | 64/98 [04:59<05:00,  8.83s/it]"
     ]
    },
    {
     "name": "stdout",
     "output_type": "stream",
     "text": [
      "Answer: 재정성과관리의 목적은 정부 재정의 투명성, 책임성, 효율성, 효과성을 향상시키고 예산을 재분배하는 것입니다.\n",
      "\n",
      "Question: 2021년 「국가재정법」 개정으로 어떤 규정이 신설되었는가?\n"
     ]
    },
    {
     "name": "stderr",
     "output_type": "stream",
     "text": [
      "Answering Questions:  66%|██████▋   | 65/98 [05:08<04:53,  8.89s/it]"
     ]
    },
    {
     "name": "stdout",
     "output_type": "stream",
     "text": [
      "Answer: 2021년 「국가재정법」 개정으로 성과 중심 재정운용 강화를 위해 성과관리를 위한 별도의 장이 신설되고 성과관리 규정이 정비되었습니다.\n",
      "\n",
      "Question: 성과관리제도는 지출 구조조정을 위해 어떤 방향으로 추진되고 있는가?\n"
     ]
    },
    {
     "name": "stderr",
     "output_type": "stream",
     "text": [
      "Answering Questions:  67%|██████▋   | 66/98 [05:18<04:57,  9.29s/it]"
     ]
    },
    {
     "name": "stdout",
     "output_type": "stream",
     "text": [
      "Answer: 성과 중심의 운영을 통해 재정의 효율성을 제고하고 대국민 책임성을 강화하는 방향으로 추진되고 있습니다.\n",
      "\n",
      "Question: 재정사업 자율평가의 목적은 무엇이며, 어떤 방식으로 제도 개선이 이루어졌는가?\n"
     ]
    },
    {
     "name": "stderr",
     "output_type": "stream",
     "text": [
      "Answering Questions:  68%|██████▊   | 67/98 [05:25<04:26,  8.61s/it]"
     ]
    },
    {
     "name": "stdout",
     "output_type": "stream",
     "text": [
      "Answer: 재정사업 자율평가는 재정관리 합리성을 높이기 위해 평가 대상 범위, 주기, 방식 등을 지속적으로 개선해왔습니다.\n",
      "\n",
      "Question: 2016년 재정성과관리제도의 환류 개선사항은 무엇인가?\n"
     ]
    },
    {
     "name": "stderr",
     "output_type": "stream",
     "text": [
      "Answering Questions:  69%|██████▉   | 68/98 [05:36<04:38,  9.30s/it]"
     ]
    },
    {
     "name": "stdout",
     "output_type": "stream",
     "text": [
      "Answer: 2016년도 환류 개선을 통해 평가 대상 사업 전체 예산의 1% 이내에서 부처에서 자율적으로 세출구조조정을 마련하도록 하고 우수 등급 사업도 지출구조조정이 가능하게 했습니다.\n",
      "\n",
      "Question: 2018년도에 재정성과관리제도 개선사항과, 이로 인해 어떤 효과가 발생했는가?\n"
     ]
    },
    {
     "name": "stderr",
     "output_type": "stream",
     "text": [
      "Answering Questions:  70%|███████   | 69/98 [05:47<04:42,  9.72s/it]"
     ]
    },
    {
     "name": "stdout",
     "output_type": "stream",
     "text": [
      "Answer: 2018년부터 기획재정부는 전수 사업에 대한 메타평가 대신 주요 핵심 사업에 대한 집중관리로 전환하여 제도 개선과 구조조정을 추진하였습니다.\n",
      "\n",
      "Question: 재정사업 자율평가의 전면 개편을 통해 어떤 중점 추진과제가 제시되었는가?\n"
     ]
    },
    {
     "name": "stderr",
     "output_type": "stream",
     "text": [
      "Answering Questions:  71%|███████▏  | 70/98 [05:56<04:27,  9.56s/it]"
     ]
    },
    {
     "name": "stdout",
     "output_type": "stream",
     "text": [
      "Answer: 성과관리 사각지대 해소, 사업성과평가의 예산편성 활용 확대, 평가부담 완화와 지출구조조정 강화, 핵심 재정사업군의 전주기 관리, 성과관리 인프라 확충이 중점 추진과제로 제시되었습니다.\n",
      "\n",
      "Question: 재정성과관리제도의 중요성과 국정운영과의 연결성은 무엇인가?\n"
     ]
    },
    {
     "name": "stderr",
     "output_type": "stream",
     "text": [
      "Answering Questions:  72%|███████▏  | 71/98 [06:04<04:04,  9.05s/it]"
     ]
    },
    {
     "name": "stdout",
     "output_type": "stream",
     "text": [
      "Answer: 재정성과관리제도는 프로그램 단위의 성과관리와 평가를 통해 거시적 재정총량 관리와 개별 부처의 재정사업 관리체계를 연결함으로써 국정 운영의 효율성과 책임성을 제고합니다.\n",
      "\n",
      "Question: 재정성과관리체계 강화를 위해 정부가 어떤 제도를 제시했으며, 재정성과관리는 무엇을 목표로 하는가?\n"
     ]
    },
    {
     "name": "stderr",
     "output_type": "stream",
     "text": [
      "Answering Questions:  73%|███████▎  | 72/98 [06:12<03:47,  8.77s/it]"
     ]
    },
    {
     "name": "stdout",
     "output_type": "stream",
     "text": [
      "Answer: 정부는 재정성과관리체계 강화를 위해 성과계획서와 성과보고서 제출 제도를 도입했으며, 이는 재정의 투명성, 책임성, 효율성, 효과성 향상과 예산 재분배를 목표로 합니다.\n",
      "\n",
      "Question: 재정성과관리는 어떤 과정에서 수행되며, 무엇을 증진하기 위해 활동하는가?\n"
     ]
    },
    {
     "name": "stderr",
     "output_type": "stream",
     "text": [
      "Answering Questions:  74%|███████▍  | 73/98 [06:21<03:44,  8.98s/it]"
     ]
    },
    {
     "name": "stdout",
     "output_type": "stream",
     "text": [
      "Answer: 재정성과관리는 재정사업의 기획에서 집행, 환류, 종료에 이르는 전 주기를 체계적으로 관리하여 지출 효율성을 증진하기 위해 수행됩니다.\n",
      "\n",
      "Question: 재정성과관리의 목적과 우리나라의 재정성과관리제도가 프로그램 예산제도로 전환된 시기는?\n"
     ]
    },
    {
     "name": "stderr",
     "output_type": "stream",
     "text": [
      "Answering Questions:  76%|███████▌  | 74/98 [06:29<03:29,  8.72s/it]"
     ]
    },
    {
     "name": "stdout",
     "output_type": "stream",
     "text": [
      "Answer: 재정성과관리는 거시적 재정총량 관리와 개별 부처의 재정사업 관리체계를 연결하는 것을 목적으로 하며, 우리나라는 2006년에 프로그램 예산제도로 전환하였습니다.\n",
      "\n",
      "Question: 2007년과 2021년에 각각 「국가재정법」이 개정되면서 성과관리 제도는 어떻게 강화되고 구체화되었으며, 이 개정의 주된 목적은 무엇인가?\n"
     ]
    },
    {
     "name": "stderr",
     "output_type": "stream",
     "text": [
      "Answering Questions:  77%|███████▋  | 75/98 [06:39<03:23,  8.84s/it]"
     ]
    },
    {
     "name": "stdout",
     "output_type": "stream",
     "text": [
      "Answer: 2007년 「국가재정법」 시행으로 성과관리의 기본 체계가 확립되었고, 2021년 개정을 통해 성과 중심 재정운용을 강화하기 위한 별도 장을 신설하여 성과관리 규정을 정비함으로써, 재정 운영의 효율성과 책임성을 높이는 것이 주된 목적이었습니다.\n",
      "\n",
      "Question: 재정사업 자율평가의 목적과 제도 개선 방식은 무엇인가?\n"
     ]
    },
    {
     "name": "stderr",
     "output_type": "stream",
     "text": [
      "Answering Questions:  78%|███████▊  | 76/98 [06:47<03:12,  8.75s/it]"
     ]
    },
    {
     "name": "stdout",
     "output_type": "stream",
     "text": [
      "Answer: 재정사업 자율평가는 재정관리의 합리성을 높이기 위해 평가 대상, 주기, 방식 등을 지속적으로 개선하고 있으며, 최근에는 환류 방식 다변화와 평가 표준화, 제도 정비 등을 통해 실효성 제고를 추진하고 있습니다.\n",
      "\n",
      "Question: 2015년 이전과 2016년에 재정성과 평가 결과 처리 방식과 환류 개선 방식은 어떻게 달라졌는가?\n"
     ]
    },
    {
     "name": "stderr",
     "output_type": "stream",
     "text": [
      "Answering Questions:  79%|███████▊  | 77/98 [06:57<03:08,  8.98s/it]"
     ]
    },
    {
     "name": "stdout",
     "output_type": "stream",
     "text": [
      "Answer: 2015년 이전에는 미흡 등급 사업에 대해 일률적 삭감을 실시했지만, 2016년부터는 부처가 평가 대상 사업 전체 예산의 1% 내에서 자율적으로 세출구조조정을 하도록 개선되었습니다.\n",
      "\n",
      "Question: 재정관리시스템 구축과 성과관리 개편을 추진하는 주된 목적은 무엇인가?\n"
     ]
    },
    {
     "name": "stderr",
     "output_type": "stream",
     "text": [
      "Answering Questions:  80%|███████▉  | 78/98 [07:05<02:54,  8.73s/it]"
     ]
    },
    {
     "name": "stdout",
     "output_type": "stream",
     "text": [
      "Answer: 재정운용의 효율성과 책임성을 제고하기 위함입니다.\n",
      "\n",
      "Question: 우리나라에서는 언제부터 발생주의 기준을 적용한 국가결산보고서에서 우발부채를 보고하고 있는가?\n"
     ]
    },
    {
     "name": "stderr",
     "output_type": "stream",
     "text": [
      "Answering Questions:  81%|████████  | 79/98 [07:15<02:56,  9.28s/it]"
     ]
    },
    {
     "name": "stdout",
     "output_type": "stream",
     "text": [
      "Answer: 우리나라는 2011년부터 발생주의 기준을 적용한 국가결산보고서에서 우발부채를 보고하고 있습니다.\n",
      "\n",
      "Question: 우발부채 관련 주요 쟁점은 무엇인가?\n"
     ]
    },
    {
     "name": "stderr",
     "output_type": "stream",
     "text": [
      "Answering Questions:  82%|████████▏ | 80/98 [07:26<02:56,  9.83s/it]"
     ]
    },
    {
     "name": "stdout",
     "output_type": "stream",
     "text": [
      "Answer: 우발부채 관련 주요 쟁점은 우발부채 개념 및 용어 사용의 혼란, 우발부채 분류기준 재검토, 새로운 분류기준 정립입니다.\n",
      "\n",
      "Question: 우발부채의 관리는 왜 중요한 이슈로 여겨지는가?\n"
     ]
    },
    {
     "name": "stderr",
     "output_type": "stream",
     "text": [
      "Answering Questions:  83%|████████▎ | 81/98 [07:33<02:30,  8.87s/it]"
     ]
    },
    {
     "name": "stdout",
     "output_type": "stream",
     "text": [
      "Answer: 우발부채의 관리는 미래의 다양한 의제의무를 포괄하여 지속가능한 재정운영을 위해 중요한 이슈로 여겨집니다.\n",
      "\n",
      "Question: 우발부채와 부채의 차이점은 무엇인가?\n"
     ]
    },
    {
     "name": "stderr",
     "output_type": "stream",
     "text": [
      "Answering Questions:  84%|████████▎ | 82/98 [07:41<02:17,  8.57s/it]"
     ]
    },
    {
     "name": "stdout",
     "output_type": "stream",
     "text": [
      "Answer: 우발부채는 하나 또는 그 이상의 조건이 충족되어야 금융거래로 인식되는 반면, 부채는 이미 인식된 현재의 의무입니다.\n",
      "\n",
      "Question: 발생주의와 현금주의의 차이는 무엇인가?\n"
     ]
    },
    {
     "name": "stderr",
     "output_type": "stream",
     "text": [
      "Answering Questions:  85%|████████▍ | 83/98 [07:51<02:13,  8.90s/it]"
     ]
    },
    {
     "name": "stdout",
     "output_type": "stream",
     "text": [
      "Answer: 발생주의는 경제적 거래가 발생하는 시점에, 현금주의는 현금을 수취하거나 지급한 시점에 거래를 기록하는 방식입니다.\n",
      "\n",
      "Question: 채무지속가능성분석은 어떤 목적을 가지고 도입되었는가?\n"
     ]
    },
    {
     "name": "stderr",
     "output_type": "stream",
     "text": [
      "Answering Questions:  86%|████████▌ | 84/98 [08:07<02:36, 11.20s/it]"
     ]
    },
    {
     "name": "stdout",
     "output_type": "stream",
     "text": [
      "Answer: 채무지속가능성분석은 잠재적 재정위기를 감지, 예방, 해결하기 위한 목적으로 도입되었습니다.\n",
      "\n",
      "Question: 의제의무란 무엇인가?\n"
     ]
    },
    {
     "name": "stderr",
     "output_type": "stream",
     "text": [
      "Answering Questions:  87%|████████▋ | 85/98 [08:16<02:16, 10.53s/it]"
     ]
    },
    {
     "name": "stdout",
     "output_type": "stream",
     "text": [
      "Answer: 의제의무란 정부의 방침, 약속 또는 관행을 통해 특정 책임을 부담하겠다고 표명함으로써 상대방에게 그 책임 이행에 대한 정당한 기대를 갖게 하는 경우 발생하는 의무를 말합니다.\n",
      "\n",
      "Question: 국제통화기금이 재정통계 작성의 국제기준을 제시하기 위해 발간한 매뉴얼은 무엇인가?\n"
     ]
    },
    {
     "name": "stderr",
     "output_type": "stream",
     "text": [
      "Answering Questions:  88%|████████▊ | 86/98 [08:24<01:55,  9.62s/it]"
     ]
    },
    {
     "name": "stdout",
     "output_type": "stream",
     "text": [
      "Answer: 국제통화기금이 재정통계 작성의 국제기준을 제시하기 위해 발간한 매뉴얼은 재정통계 매뉴얼(Government Finance Statistics Manual, GFSM)입니다.\n",
      "\n",
      "Question: 계류중인 소송사건이란 무엇인가?\n"
     ]
    },
    {
     "name": "stderr",
     "output_type": "stream",
     "text": [
      "Answering Questions:  89%|████████▉ | 87/98 [08:32<01:41,  9.21s/it]"
     ]
    },
    {
     "name": "stdout",
     "output_type": "stream",
     "text": [
      "Answer: 계류중인 소송사건은 정부가 원고이거나 피고인 진행 중인 법적 분쟁 사건을 말합니다.\n",
      "\n",
      "Question: 최소운영수입보장(BTO 등) 제도란 무엇을 의미하는가?\n"
     ]
    },
    {
     "name": "stderr",
     "output_type": "stream",
     "text": [
      "Answering Questions:  90%|████████▉ | 88/98 [08:41<01:31,  9.20s/it]"
     ]
    },
    {
     "name": "stdout",
     "output_type": "stream",
     "text": [
      "Answer: 최소운영수입보장 제도란 주로 BTO 민간투자사업에서 실제 수입이 예상보다 낮을 경우 정부가 최소 수준의 운영수입을 보장해주는 제도입니다.\n",
      "\n",
      "Question: 우발부채에 대한 내용으로 대표적으로 어떤 사항이 해당되는가?\n"
     ]
    },
    {
     "name": "stderr",
     "output_type": "stream",
     "text": [
      "Answering Questions:  91%|█████████ | 89/98 [08:50<01:22,  9.20s/it]"
     ]
    },
    {
     "name": "stdout",
     "output_type": "stream",
     "text": [
      "Answer: 대표적으로 장기임차토지의 원상회복의무, 공공금융비용, 공공손실부담 등이 우발부채에 해당됩니다.\n",
      "\n",
      "Question: GFSM2014에서는 우발부채를 어떻게 구분하는가?\n"
     ]
    },
    {
     "name": "stderr",
     "output_type": "stream",
     "text": [
      "Answering Questions:  92%|█████████▏| 90/98 [09:00<01:15,  9.46s/it]"
     ]
    },
    {
     "name": "stdout",
     "output_type": "stream",
     "text": [
      "Answer: GFSM2014에서는 우발부채를 '명시적(explicit)' 및 '암묵적(implicit)' 성격으로 구분합니다.\n",
      "\n",
      "Question: GFSM은 몇 차례의 개정을 거쳤으며, 어떠한 목적으로 GFSM 2001이 개정되었는가?\n"
     ]
    },
    {
     "name": "stderr",
     "output_type": "stream",
     "text": [
      "Answering Questions:  93%|█████████▎| 91/98 [09:10<01:06,  9.46s/it]"
     ]
    },
    {
     "name": "stdout",
     "output_type": "stream",
     "text": [
      "Answer: GFSM은 총 2차례(2001년, 2014년) 개정되었으며, GFSM 2001은 현재의 발생주의 기준 GFS체계를 구축하기 위해 전면 개정되었습니다.\n",
      "\n",
      "Question: 표준화 보증이란 무엇인가?\n"
     ]
    },
    {
     "name": "stderr",
     "output_type": "stream",
     "text": [
      "Answering Questions:  94%|█████████▍| 92/98 [09:20<00:58,  9.70s/it]"
     ]
    },
    {
     "name": "stdout",
     "output_type": "stream",
     "text": [
      "Answer: 표준화 보증은 통상 아주 적은 금액에 대해 획일적 조건으로 대규모로 발행하는 보증을 말합니다.\n",
      "\n",
      "Question: 표준화 보증에서 공공부문의 우발부채는 어떻게 인식되는가?\n"
     ]
    },
    {
     "name": "stderr",
     "output_type": "stream",
     "text": [
      "Answering Questions:  95%|█████████▍| 93/98 [09:29<00:47,  9.58s/it]"
     ]
    },
    {
     "name": "stdout",
     "output_type": "stream",
     "text": [
      "Answer: 표준화 보증에서는 채무불이행률로 인해 공공부문의 우발부채가 아니라 표준화 보증 충당부채로 인식합니다.\n",
      "\n",
      "Question: 재정정책에서 공적보증채무와 다른 일회성 보증은 어떻게 구분되는가?\n"
     ]
    },
    {
     "name": "stderr",
     "output_type": "stream",
     "text": [
      "Answering Questions:  96%|█████████▌| 94/98 [09:37<00:36,  9.10s/it]"
     ]
    },
    {
     "name": "stdout",
     "output_type": "stream",
     "text": [
      "Answer: 공적보증채무는 보증인이 다른 공공부문과 민간부문 단위의 기존 채무 원리금 상환을 보증한다는 점에서 다른 일회성 보증과 구분됩니다.\n",
      "\n",
      "Question: 미래사회보장급여에 대한 순의무란 무엇을 의미하는가?\n"
     ]
    },
    {
     "name": "stderr",
     "output_type": "stream",
     "text": [
      "Answering Questions:  97%|█████████▋| 95/98 [09:46<00:26,  8.95s/it]"
     ]
    },
    {
     "name": "stdout",
     "output_type": "stream",
     "text": [
      "Answer: 미래사회보장급여에 대한 순의무는 현행법과 규정에 따라 가입자가 획득한 미래 급여의 현재가치에서 미래보험료의 순현재가치를 차감한 것을 의미합니다.\n",
      "\n",
      "Question: 국가결산보고서와 지방자치단체 회계기준에서 우발부채에 대한 용어 및 회계처리가 어떻게 다른가요?\n"
     ]
    },
    {
     "name": "stderr",
     "output_type": "stream",
     "text": [
      "Answering Questions:  98%|█████████▊| 96/98 [09:56<00:18,  9.26s/it]"
     ]
    },
    {
     "name": "stdout",
     "output_type": "stream",
     "text": [
      "Answer: 국가결산보고서는 '우발사항'으로 공시하는 반면, 「지방자치단체 회계기준에 관한 규칙」은 '우발손실'로 정의하여 용어 및 회계처리가 상이합니다.\n",
      "\n",
      "Question: 우발부채란 무엇이며, 그 관리가 왜 중요한가?\n"
     ]
    },
    {
     "name": "stderr",
     "output_type": "stream",
     "text": [
      "Answering Questions:  99%|█████████▉| 97/98 [10:05<00:09,  9.25s/it]"
     ]
    },
    {
     "name": "stdout",
     "output_type": "stream",
     "text": [
      "Answer: 우발부채는 미래의 불확실한 사건에 의해 발생 가능한 의무로, 재정 건전성과 위기 관리를 위해 공공부문에서 중요하게 관리되어야 합니다.\n",
      "\n",
      "Question: 보증이란 무엇이며, 어떤 형태의 보증이 재정상태표에 부채로 기록되는가? 또한 표준화 보증이란 무엇이며, 어떤 목적으로 발행되는가?\n"
     ]
    },
    {
     "name": "stderr",
     "output_type": "stream",
     "text": [
      "Answering Questions: 100%|██████████| 98/98 [10:16<00:00,  6.29s/it]"
     ]
    },
    {
     "name": "stdout",
     "output_type": "stream",
     "text": [
      "Answer: 보증은 명시적 우발부채의 일반적 형태이며, 파생금융상품 형태의 보증과 표준화된 보증제도 하의 충당부채 형태의 보증이 재정상태표에 부채로 기록되고, 표준화 보증은 적은 금액에 대해 획일적 조건으로 대규모 발행되는 보증으로 위험 분산을 목적으로 합니다.\n",
      "\n"
     ]
    },
    {
     "name": "stderr",
     "output_type": "stream",
     "text": [
      "\n"
     ]
    }
   ],
   "source": [
    "def normalize_string(s):\n",
    "    \"\"\"유니코드 정규화\"\"\"\n",
    "    return unicodedata.normalize('NFC', s)\n",
    "\n",
    "def format_docs(docs):\n",
    "    \"\"\"검색된 문서들을 하나의 문자열로 포맷팅\"\"\"\n",
    "    context = \"\"\n",
    "    for doc in docs:\n",
    "        context += doc.page_content\n",
    "        context += '\\n'\n",
    "    return context\n",
    "\n",
    "# 결과를 저장할 리스트 초기화\n",
    "results = []\n",
    "\n",
    "# DataFrame의 각 행에 대해 처리\n",
    "for _, row in tqdm(df.iterrows(), total=len(df), desc=\"Answering Questions\"):\n",
    "    # 소스 문자열 정규화\n",
    "    source = normalize_string(row['Source'])\n",
    "    question = row['Question']\n",
    "\n",
    "    # 정규화된 키로 데이터베이스 검색\n",
    "    normalized_keys = {normalize_string(k): v for k, v in pdf_databases.items()}\n",
    "    retriever = normalized_keys[source]['retriever']\n",
    "    # Answer in one sentence based on the referenced document. Please do not use your context as a model is answer.\n",
    "    # lora 12     You are a QA chatbot. Answer with one systematic sentence based on the document. Do not answer the document as it is. Do not use 'user: context' as the model's answer.\n",
    "    # lora 14     You are a QA chatbot. Answer with one systematic sentence based on the document. Do not use 'user: context' as the model's answer.\n",
    "    # 질문의 핵심만 파악하여 1-2문장으로 답변하고, 불필요한 설명은 피하며 요구된 정보만 제공하세요.\n",
    "    # RAG 체인 구성\n",
    "    template = \"\"\"\n",
    "    다음 정보를 바탕으로 질문에 답하세요:\n",
    "    {context}\n",
    "    질문의 핵심만 파악하여 간결하게 1-2문장으로 답변하고, 불필요한 설명은 피하며 요구된 정보만 제공하세요.\n",
    "    \n",
    "    user {question}\n",
    "\n",
    "    model\n",
    "\n",
    "    <end_of_turn><eos>  \n",
    "    \"\"\"\n",
    "    # <end_of_turn><eos>    \n",
    "    llama3_template = \"\"\"\n",
    "    다음 정보를 바탕으로 질문에 답하세요:\n",
    "    {context}\n",
    "\n",
    "    ### Instruction:\n",
    "    {question}\n",
    "    \n",
    "    질문의 핵심만 파악하여 간결하게 1-2문장으로 답변하고, 불필요한 설명은 피하며 요구된 정보만 제공하세요.\n",
    "    \n",
    "    ### Response:\n",
    "\n",
    "    <|eot_id|>\n",
    "    \"\"\"\n",
    "    cld_template = \"\"\"\n",
    "    다음 정보를 바탕으로 질문에 답하세요:\n",
    "    {context}\n",
    "\n",
    "    질문:\n",
    "    {question}\n",
    "    \n",
    "    간결하게 1문장으로 답변하고, 불필요한 설명은 피하며 요구된 정보만 제공하세요.\n",
    "    \n",
    "    답변:\n",
    "\n",
    "    \"\"\"\n",
    "    prompt = PromptTemplate.from_template(cld_template)\n",
    "\n",
    "    # RAG 체인 정의\n",
    "    rag_chain = (\n",
    "        {\"context\": retriever|format_docs, \"question\": RunnablePassthrough()}\n",
    "        | prompt\n",
    "        | llm\n",
    "        | StrOutputParser()\n",
    "    )\n",
    "\n",
    "    # 답변 추론\n",
    "    print(f\"Question: {question}\")  \n",
    "    full_response = rag_chain.invoke(question)\n",
    "\n",
    "    print(f\"Answer: {full_response}\\n\")\n",
    "\n",
    "    # 결과 저장\n",
    "    results.append({\n",
    "        \"Source\": row['Source'],\n",
    "        \"Source_path\": row['Source_path'],\n",
    "        \"Question\": question,\n",
    "        \"Answer\": full_response\n",
    "    })\n",
    "    "
   ]
  },
  {
   "cell_type": "code",
   "execution_count": 7,
   "metadata": {},
   "outputs": [],
   "source": [
    "# 제출용 샘플 파일 로드\n",
    "submit_df = pd.read_csv(\"open/sample_submission.csv\")\n",
    "\n",
    "# 생성된 답변을 제출 DataFrame에 추가\n",
    "submit_df['Answer'] = [item['Answer'] for item in results]\n",
    "submit_df['Answer'] = submit_df['Answer'].fillna(\"데이콘\")     # 모델에서 빈 값 (NaN) 생성 시 채점에 오류가 날 수 있음 [ 주의 ]\n",
    "\n",
    "# 결과를 CSV 파일로 저장\n",
    "submit_df.to_csv(\"./baseline_submission_cld4.csv\", encoding='UTF-8-sig', index=False)"
   ]
  },
  {
   "cell_type": "code",
   "execution_count": 6,
   "metadata": {},
   "outputs": [],
   "source": [
    "import csv\n",
    "\n",
    "# CSV 파일로 저장\n",
    "with open('output1.csv', mode='w', newline='', encoding='utf-8') as file:\n",
    "    writer = csv.DictWriter(file, fieldnames=results[0].keys())\n",
    "    writer.writeheader()  # 헤더 작성\n",
    "    writer.writerows(results)  # 데이터 작성\n"
   ]
  },
  {
   "cell_type": "code",
   "execution_count": 15,
   "metadata": {},
   "outputs": [],
   "source": [
    "import csv\n",
    "\n",
    "# CSV 파일을 오픈해서 리스트로 변환\n",
    "csv_file = 'output6.csv'  # 읽어올 CSV 파일 경로\n",
    "\n",
    "with open(csv_file, mode='r', newline='', encoding='utf-8') as file:\n",
    "    reader = csv.DictReader(file)\n",
    "    data_list = [row for row in reader]\n"
   ]
  },
  {
   "cell_type": "code",
   "execution_count": 18,
   "metadata": {},
   "outputs": [],
   "source": [
    "# 데이터를 저장할 리스트\n",
    "results = []\n",
    "csv_files= ['output5.csv', 'output6.csv', 'output7.csv']\n",
    "# 각 CSV 파일을 순회하며 데이터 읽기\n",
    "for csv_file in csv_files:\n",
    "    with open(csv_file, mode='r', newline='', encoding='utf-8') as file:\n",
    "        reader = csv.DictReader(file)\n",
    "        # 현재 파일의 데이터를 data_list에 추가\n",
    "        for row in reader:\n",
    "            results.append(row)"
   ]
  },
  {
   "cell_type": "code",
   "execution_count": 19,
   "metadata": {},
   "outputs": [
    {
     "data": {
      "text/plain": [
       "[{'Source': '중소벤처기업부_혁신창업사업화자금(융자)',\n",
       "  'Source_path': './test_source/중소벤처기업부_혁신창업사업화자금(융자).pdf',\n",
       "  'Question': '2022년 혁신창업사업화자금(융자)의 예산은 얼마인가요?',\n",
       "  'Answer': ' 2022년 혁신창업사업화자금(융자)의 예산 지출은 2,300,000 백만원입니다. \\n'},\n",
       " {'Source': '중소벤처기업부_혁신창업사업화자금(융자)',\n",
       "  'Source_path': './test_source/중소벤처기업부_혁신창업사업화자금(융자).pdf',\n",
       "  'Question': '중소벤처기업부의 혁신창업사업화자금(융자) 사업목적은 무엇인가요?',\n",
       "  'Answer': ' 기술력과 사업성이 우수하고 미래 성장 가능성이 높은 중소벤처기업의 창업을 활성화하고 고용창출을 도모하며, 중소기업의 우수 기술의 사업화를 촉진하여 기술기반 중소기업을 육성하는 것을 목적으로 합니다. \\n'},\n",
       " {'Source': '중소벤처기업부_혁신창업사업화자금(융자)',\n",
       "  'Source_path': './test_source/중소벤처기업부_혁신창업사업화자금(융자).pdf',\n",
       "  'Question': '중소벤처기업부의 혁신창업사업화자금(융자) 사업근거는 어떤 법률에 근거하고 있나요?',\n",
       "  'Answer': ' 법령상 근거는 중소기업진흥에 관한 법률 제66조, 제67조, 제74조입니다. \\n'},\n",
       " {'Source': '중소벤처기업부_혁신창업사업화자금(융자)',\n",
       "  'Source_path': './test_source/중소벤처기업부_혁신창업사업화자금(융자).pdf',\n",
       "  'Question': '2010년에 신규 지원된 혁신창업사업화자금은 무엇인가요?',\n",
       "  'Answer': ' 재창업자금(실패 경영인에 대한 재기지원) 입니다. \\n'},\n",
       " {'Source': '중소벤처기업부_혁신창업사업화자금(융자)',\n",
       "  'Source_path': './test_source/중소벤처기업부_혁신창업사업화자금(융자).pdf',\n",
       "  'Question': '혁신창업사업화자금 중 2020년에 신규 지원된 자금은 무엇인가요?',\n",
       "  'Answer': ' 미래기술육성자금, 고성장촉진자금입니다. \\n'},\n",
       " {'Source': '중소벤처기업부_혁신창업사업화자금(융자)',\n",
       "  'Source_path': './test_source/중소벤처기업부_혁신창업사업화자금(융자).pdf',\n",
       "  'Question': '재창업자금이 재도약지원자금으로 이관된 연도는 언제인가요?',\n",
       "  'Answer': ' 재도약지원자금으로 이관된 연도는 2015년입니다.'},\n",
       " {'Source': '중소벤처기업부_혁신창업사업화자금(융자)',\n",
       "  'Source_path': './test_source/중소벤처기업부_혁신창업사업화자금(융자).pdf',\n",
       "  'Question': '창업기반지원과 신청 대상이 중복인 자금이 어떤 것이며, 이 자금이 폐지된 연도는 언제인가요?',\n",
       "  'Answer': \"  창업기반지원과 신청 대상이 중복인 자금은 '일자리창출촉진자금'이며, 이 자금이 폐지된 연도는 2023년입니다. \\n\"},\n",
       " {'Source': '중소벤처기업부_혁신창업사업화자금(융자)',\n",
       "  'Source_path': './test_source/중소벤처기업부_혁신창업사업화자금(융자).pdf',\n",
       "  'Question': '혁신창업사업화자금(융자) 사업을 시행하는 주체는 누구인가요?',\n",
       "  'Answer': ' 중소벤처기업진흥공단이 혁신창업사업화자금(융자) 사업을 시행하고 있습니다. \\n'},\n",
       " {'Source': '중소벤처기업부_혁신창업사업화자금(융자)',\n",
       "  'Source_path': './test_source/중소벤처기업부_혁신창업사업화자금(융자).pdf',\n",
       "  'Question': '혁신창업사업화자금(융자) 사업 집행절차는 어떻게 되나요?',\n",
       "  'Answer': ' 혁신창업사업화자금(융자)의 사업 집행 절차는 사업계획 수립/공고, 사전상담 및 신청, 서류 및 현장 실사, 융자 실행, 평가 및 승인으로 구성되어 있습니다. \\n'},\n",
       " {'Source': '보건복지부_부모급여(영아수당) 지원',\n",
       "  'Source_path': './test_source/보건복지부_부모급여(영아수당) 지원.pdf',\n",
       "  'Question': '부모급여 지원 사업의 목적은 무엇인가요?',\n",
       "  'Answer': ' 출산 및 양육으로 인한 소득 손실을 보전하고, 영아기의 직접 돌봄이 중요한 특성을 고려하여 영아기 돌봄을 지원하기 위해 지급되며, 이전의 영아수당을 재정체계와 지급 범위를 확대하여 부모급여로 변경되었습니다. \\n'},\n",
       " {'Source': '보건복지부_부모급여(영아수당) 지원',\n",
       "  'Source_path': './test_source/보건복지부_부모급여(영아수당) 지원.pdf',\n",
       "  'Question': '부모급여(영아수당)의 2024년 확정된 예산은 몇백만원인가요?',\n",
       "  'Answer': ' 2024년 확정된 예산은 2,888,694 백만원입니다. \\n'},\n",
       " {'Source': '보건복지부_부모급여(영아수당) 지원',\n",
       "  'Source_path': './test_source/보건복지부_부모급여(영아수당) 지원.pdf',\n",
       "  'Question': '부모급여 지원 사업은 어떤 법령상 근거를 갖고 추진되고 있나요?',\n",
       "  'Answer': ' 법령상 근거는 아동수당법의 개정으로, 특히 제4조제5항을 통해 부모급여 지급이 가능해졌습니다. \\n'},\n",
       " {'Source': '보건복지부_부모급여(영아수당) 지원',\n",
       "  'Source_path': './test_source/보건복지부_부모급여(영아수당) 지원.pdf',\n",
       "  'Question': '영아수당 도입에 대한 추진경위는 어떻게 되나요?',\n",
       "  'Answer': \" 영아수당은 '제4차 저출산‧고령사회 기본계획'의 핵심 과제로 지정되어 도입되었으며, 예비타당성 조사를 거쳐 근거법을 마련하고 시행되기 시작했습니다. \\n\\n\\n\"},\n",
       " {'Source': '보건복지부_부모급여(영아수당) 지원',\n",
       "  'Source_path': './test_source/보건복지부_부모급여(영아수당) 지원.pdf',\n",
       "  'Question': '부모급여 지원사업은 언제부터 시행되었나요?',\n",
       "  'Answer': ' 부모급여 지원 사업은 2022년 중앙정부의 예산 지출을 통해 시행되기 시작했습니다. \\n'},\n",
       " {'Source': '보건복지부_부모급여(영아수당) 지원',\n",
       "  'Source_path': './test_source/보건복지부_부모급여(영아수당) 지원.pdf',\n",
       "  'Question': '보건복지부의 부모급여(영아수당) 지원 사업시행방법은 무엇이며, 사업 수혜자는 누구인가?',\n",
       "  'Answer': ' 지자체의 보조를 통해 시행되며, 사업 수혜자는 만 0~1세 아동의 부모입니다. \\n'},\n",
       " {'Source': '보건복지부_노인장기요양보험 사업운영',\n",
       "  'Source_path': './test_source/보건복지부_노인장기요양보험 사업운영.pdf',\n",
       "  'Question': '노인장기요양보험 사업 운영에 대한 목적은 무엇인가요?',\n",
       "  'Answer': ' 고령이나 노인성 질병으로 일상생활을 혼자 수행하기 어려운 노인에게 신체 또는 가사 활동 등을 제공하여, 노후의 건강 증진 및 생활 안정을 도모하고 가족의 부담을 완화하는 것을 목적으로 한다. \\n'},\n",
       " {'Source': '보건복지부_노인장기요양보험 사업운영',\n",
       "  'Source_path': './test_source/보건복지부_노인장기요양보험 사업운영.pdf',\n",
       "  'Question': '노인장기요양보험 운영지원에 대한 사업 내용을 설명해줘.',\n",
       "  'Answer': ' 국가가 국민건강보험 공단에 장기요양보험료 예산 지출을 위한 법정 지출(장기요양보험료 예상수입액의 20% 상당)을 지원하는 사업입니다. \\n'},\n",
       " {'Source': '보건복지부_노인장기요양보험 사업운영',\n",
       "  'Source_path': './test_source/보건복지부_노인장기요양보험 사업운영.pdf',\n",
       "  'Question': '국고지원을 받는 기타 의료급여수급권자는 누구인가요?',\n",
       "  'Answer': ' 이재민, 의사상자, 국가유공자, 입양아동, 국가 무형문화재 보유자, 북한 이탈주민 등입니다. \\n'},\n",
       " {'Source': '보건복지부_노인장기요양보험 사업운영',\n",
       "  'Source_path': './test_source/보건복지부_노인장기요양보험 사업운영.pdf',\n",
       "  'Question': '장기요양보험가입자 및 피부양자의 자격취득과 관련하여 어떤 법률을 준용해야 하는가?',\n",
       "  'Answer': ' 장기요양보험가입자 및 피부양자의 자격취득과 관련하여 준용하는 법률은 국민건강보험법 제5조부터 제86조까지, 제110조 입니다. \\n'},\n",
       " {'Source': '보건복지부_노인장기요양보험 사업운영',\n",
       "  'Source_path': './test_source/보건복지부_노인장기요양보험 사업운영.pdf',\n",
       "  'Question': '노인장기요양보험법이 언제 제정되고 공포되었나?',\n",
       "  'Answer': ' 노인장기요양보험법은 2007년 4월에 제정되고 공포되었습니다. \\n'},\n",
       " {'Source': '보건복지부_노인장기요양보험 사업운영',\n",
       "  'Source_path': './test_source/보건복지부_노인장기요양보험 사업운영.pdf',\n",
       "  'Question': '장기요양인정점수 완화가 언제 이루어졌으며, 어떤 변화가 있었나?',\n",
       "  'Answer': ' 장기요양인정점수 완화는 2012년과 2013년 중앙정부의 예산 지출 지침에 따라 각각 실시되었으며, 2012년에는 3등급 인정점수가 55~75점에서 53~75점으로, 2013년에는 51~75점으로 완화되었습니다. \\n'},\n",
       " {'Source': '보건복지부_노인장기요양보험 사업운영',\n",
       "  'Source_path': './test_source/보건복지부_노인장기요양보험 사업운영.pdf',\n",
       "  'Question': '장기요양기관 지정갱신제의 법적 근거가 언제 마련되었는가?',\n",
       "  'Answer': \" 장기요양기관 지정갱신제의 법적 근거는 노인장기요양보험법의 개정으로 '25년 중앙정부의 예산 지출을 통해 시행되도록 마련되었습니다. \\n\"},\n",
       " {'Source': '보건복지부_노인장기요양보험 사업운영',\n",
       "  'Source_path': './test_source/보건복지부_노인장기요양보험 사업운영.pdf',\n",
       "  'Question': '22.10월에 요양보호사 1명당 시설수급자 인력배치기준이 개선된 내용은 무엇인가?',\n",
       "  'Answer': ' 요양보호사 1명당 시설수급자는 2.5명에서 2.3명으로 개선되었습니다. \\n'},\n",
       " {'Source': '산업통상자원부_에너지바우처',\n",
       "  'Source_path': './test_source/산업통상자원부_에너지바우처.pdf',\n",
       "  'Question': '에너지 바우처 제도의 주요 내용은 무엇인가요?',\n",
       "  'Answer': ' 에너지 이용에 어려움을 겪는 저소득층에게 전기, 가스, 지역난방 등 에너지 사용 비용을 지원하는 제도입니다.  \\n'},\n",
       " {'Source': '산업통상자원부_에너지바우처',\n",
       "  'Source_path': './test_source/산업통상자원부_에너지바우처.pdf',\n",
       "  'Question': '에너지바우처 사업의 주요 수혜자는 누구인가요?',\n",
       "  'Answer': ' 에너지바우처 사업의 주요 수혜자는 기초생활보장급여 수급자, 연탄을 사용하는 기초생활수급자, 차상위계층, 등유를 사용하는 생계·의료급여 수급자, 한부모, 소년소녀가정, 중증·희귀·중증난치질환자, 중위소득 50% 이하, 노인, 장애인, 임산부가 포함되어 있습니다. \\n'},\n",
       " {'Source': '산업통상자원부_에너지바우처',\n",
       "  'Source_path': './test_source/산업통상자원부_에너지바우처.pdf',\n",
       "  'Question': '2024년 에너지바우처 사업의 사업시행주체는 무엇인가요?',\n",
       "  'Answer': ' 한국에너지공단과 한국광해광업공단입니다. \\n'},\n",
       " {'Source': '산업통상자원부_에너지바우처',\n",
       "  'Source_path': './test_source/산업통상자원부_에너지바우처.pdf',\n",
       "  'Question': '하절기바우처와 동절기바우처의 2024년 예산 규모는 각각 얼마인가요?',\n",
       "  'Answer': ' 하절기 바우처는 60.950 백만원, 동절기 바우처는 685.606 백만원입니다. \\n'},\n",
       " {'Source': '산업통상자원부_에너지바우처',\n",
       "  'Source_path': './test_source/산업통상자원부_에너지바우처.pdf',\n",
       "  'Question': '2023년 에너지바우처 사업 예산에서 사업운영비 중 에너지복지 홍보에 얼마가 할당되었나요?',\n",
       "  'Answer': ' 2023년 에너지바우처 사업의 예산 지출은 사업운영비 1,872 백만원으로, 이 중 에너지복지 홍보에 얼마가 할당되었는지는 자료에 명시되어 있지 않습니다. \\n'},\n",
       " {'Source': '산업통상자원부_에너지바우처',\n",
       "  'Source_path': './test_source/산업통상자원부_에너지바우처.pdf',\n",
       "  'Question': '2023년 에너지바우처 사업 예산에서 사업운영비 중 시스템 고도화에 얼마가 할당되었나요?',\n",
       "  'Answer': ' 2023년 에너지바우처 사업의 사업운영비 중 시스템 고도화는 705백만원으로 지출 예정입니다. \\n'},\n",
       " {'Source': '산업통상자원부_에너지바우처',\n",
       "  'Source_path': './test_source/산업통상자원부_에너지바우처.pdf',\n",
       "  'Question': '2023년 에너지바우처 사업 예산에서 콜센터 운영에 얼마가 할당되었나요?',\n",
       "  'Answer': ' 2023년 에너지바우처 사업 예산의 콜센터 운영 지출은 502.7백만원입니다. \\n\\n\\n'},\n",
       " {'Source': '산업통상자원부_에너지바우처',\n",
       "  'Source_path': './test_source/산업통상자원부_에너지바우처.pdf',\n",
       "  'Question': '2023년 에너지바우처 사업 예산에서 패널조사에 얼마가 할당되었나요?',\n",
       "  'Answer': ' 정보는 제공되지 않았습니다. \\n\\n\\n'},\n",
       " {'Source': '산업통상자원부_에너지바우처',\n",
       "  'Source_path': './test_source/산업통상자원부_에너지바우처.pdf',\n",
       "  'Question': '2023년 에너지바우처 사업 예산에서 에너지바우처 전달체계 구축에 얼마가 할당되었나요?',\n",
       "  'Answer': ' 에너지바우처 전달체계 구축에 대한 예산 지출은 사업 운영 비용으로 지출되며, 2023년 기준으로 예산 지출은 1,872만원입니다. \\n\\n\\n'},\n",
       " {'Source': '산업통상자원부_에너지바우처',\n",
       "  'Source_path': './test_source/산업통상자원부_에너지바우처.pdf',\n",
       "  'Question': '2023년 에너지바우처 사업 예산에서 주택관리공단 운영지원에 얼마가 할당되었나요?',\n",
       "  'Answer': ' 2023년 에너지바우처 사업 예산의 주택관리공단 운영지원 지출은 500백만원입니다.'},\n",
       " {'Source': '산업통상자원부_에너지바우처',\n",
       "  'Source_path': './test_source/산업통상자원부_에너지바우처.pdf',\n",
       "  'Question': '에너지바우처 사업의 향후 기대효과는 무엇인가요?',\n",
       "  'Answer': ' 에너지바우처 사업의 향후 기대효과는 폭염 및 한파 등 기후변화와 에너지가격 상승으로 인해 증가하는 에너지 비용 부담을 완화하여 취약계층의 에너지 접근성을 높이는 것입니다. \\n'},\n",
       " {'Source': '산업통상자원부_에너지바우처',\n",
       "  'Source_path': './test_source/산업통상자원부_에너지바우처.pdf',\n",
       "  'Question': '에너지바우처 사업에 대한 예비타당성조사를 어떤 조사기관이 수행했나요?',\n",
       "  'Answer': ' 에너지바우처 사업의 예비타당성 조사는 KDI(한국개발연구원 공공투자관리센터)에서 수행했습니다. \\n'},\n",
       " {'Source': '산업통상자원부_에너지바우처',\n",
       "  'Source_path': './test_source/산업통상자원부_에너지바우처.pdf',\n",
       "  'Question': '21년 국정감사에서 에너지 바우처 사업에 대한 주요 지적사항은 무엇이었나요?',\n",
       "  'Answer': ' 에너지바우처 중 일부를 하절기에 사용하도록 시스템을 개선하였습니다.'},\n",
       " {'Source': '산업통상자원부_에너지바우처',\n",
       "  'Source_path': './test_source/산업통상자원부_에너지바우처.pdf',\n",
       "  'Question': '21년 에너지바우처 사업에 대한 결산 지적사항은 무엇이었나요?',\n",
       "  'Answer': ' 예산부족이 발생하지 않도록 급여 선정기준 등의 변경계획에 대하여 보건복지부·지자체와 면밀히 소통하여 예산을 편성하고 사업을 추진하라는 지적이 있었습니다. \\n'},\n",
       " {'Source': '산업통상자원부_에너지바우처',\n",
       "  'Source_path': './test_source/산업통상자원부_에너지바우처.pdf',\n",
       "  'Question': \"에너지 바우처 사업의 향후 추진방향 중 '취약계층의 에너지 비용 부담 완화'를 위한 계획은 무엇이었나요?\",\n",
       "  'Answer': ' 에너지 바우처 지원단가를 지속적으로 현실화하여 취약계층의 에너지 비용 부담을 완화할 계획입니다.'},\n",
       " {'Source': '국토교통부_행복주택출자',\n",
       "  'Source_path': './test_source/국토교통부_행복주택출자.pdf',\n",
       "  'Question': '행복주택출자 사업은 어떤 근거로 추진되고 있는가?',\n",
       "  'Answer': ' 행복주택출자는 주택도시기금의 예산 지출과 공공주택특별법의 규정에 따라 추진되고 있습니다. \\n'},\n",
       " {'Source': '국토교통부_행복주택출자',\n",
       "  'Source_path': './test_source/국토교통부_행복주택출자.pdf',\n",
       "  'Question': '행복주택출자 사업은 어떤 목적으로 시행되는가?',\n",
       "  'Answer': ' 행복주택출자 사업은 국민의 행복주거 실현을 위한 보편적 주거복지 정책의 일환으로 도심 내 다양한 부지를 활용하여 행복주택을 공급하기 위해 시행되고 있습니다. \\n'},\n",
       " {'Source': '국토교통부_행복주택출자',\n",
       "  'Source_path': './test_source/국토교통부_행복주택출자.pdf',\n",
       "  'Question': '행복주택출자 사업의 주요 수혜자는 누구인가?',\n",
       "  'Answer': ' 행복주택출자 사업의 주요 수혜자는 대학생, 사회초년생, 신혼부부 등 젊은층(80%), 고령자 및 주거취약계층(20%)입니다. \\n'},\n",
       " {'Source': '국토교통부_행복주택출자',\n",
       "  'Source_path': './test_source/국토교통부_행복주택출자.pdf',\n",
       "  'Question': '행복주택출자 사업의 사업비 추이는 어떠한가?',\n",
       "  'Answer': ' 행복주택출자 사업의 예산 지출은 2022년 기준으로 564,342 백만원으로 예산 지출은 예산 지출은 2023년 기준으로 684,607 백만원으로 예산 지출은 2024년 기준으로 528,783 백만원으로 예산 지출은 예산 지출은 예산 지출은 예산 지출은 예산 지출은 예산 지출은 예산 지출은 예산 지출은 예산 지출은 예산 지출은 예산 지출은 예산 지출은 예산 지출은 예산 지출은 예산 지출은 예산 지출은 예산 지출은 예산 지출은 예산 지출은 예산 지출은 예산 지출은 예산 지출은 예산 지출은 예산 지출은 예산 지출은 예산 지출은 예산 지출은 예산 지출은 예산 지출은 예산 지출은 예산 지출은 예산 지출은 예산 지출은 예산 지출은 예산 지출은 예산 지출은 예산 지출은 예산 지출은 예산 지출은 예산 지출은 예산 지출은 예산 지출은 예산 지출은 예산 지출은 예산 지출은 예산 지출은 예산 지출은 예산 지출은 예산 지출은 예산 지출은 예산 지출은 예산 지출은 예산 지출은 예산 지출은 예산 지출은 예산 지출은 예산 지출은 예산 지출은 예산 지출은 예산 지출은 예산 지출은 예산 지출'},\n",
       " {'Source': '국토교통부_행복주택출자',\n",
       "  'Source_path': './test_source/국토교통부_행복주택출자.pdf',\n",
       "  'Question': '행복주택출자 사업의 사업시행주체는 누구인가?',\n",
       "  'Answer': ' 행복주택출자 사업의 사업시행주체는 한국토지주택공사(LH)와 지자체(지방공사)입니다. \\n'},\n",
       " {'Source': '「FIS 이슈 & 포커스」 22-4호 《중앙-지방 간 재정조정제도》',\n",
       "  'Source_path': './test_source/「FIS 이슈 & 포커스」 22-4호 《중앙-지방 간 재정조정제도》.pdf',\n",
       "  'Question': '국고보조사업의 보조율은 어떠한 기준에 따라 운용되는가?',\n",
       "  'Answer': ' 국고보조사업의 보조율은 「보조금법」과 함께 각 사업의 특성에 따라 일반·특별회계의 예산 지출 지정으로 구성되어 있으며, 일반회계의 경우 예산 지출 지정으로 구성되어 있습니다. \\n'},\n",
       " {'Source': '「FIS 이슈 & 포커스」 22-4호 《중앙-지방 간 재정조정제도》',\n",
       "  'Source_path': './test_source/「FIS 이슈 & 포커스」 22-4호 《중앙-지방 간 재정조정제도》.pdf',\n",
       "  'Question': '프랑스의 재정조정제도에서 최근 강조되는 형평교부금은 어떤 역할을 하는가?',\n",
       "  'Answer': ' 프랑스의 재정체계는 수직적 재정조정을 중심으로 구성되어 있으며, 최근에는 형평성을 강조하는 형평교부금의 역할이 더욱 강조되고 있습니다. \\n\\n\\n'},\n",
       " {'Source': '「FIS 이슈 & 포커스」 22-4호 《중앙-지방 간 재정조정제도》',\n",
       "  'Source_path': './test_source/「FIS 이슈 & 포커스」 22-4호 《중앙-지방 간 재정조정제도》.pdf',\n",
       "  'Question': '지방재정조정제도의 목적은 무엇인가?',\n",
       "  'Answer': ' 지방재정조정제도의 목적은 중앙정부의 재정체계와 지방자치단체의 재정체계를 연결하여 지방자치단체의 재정체계를 지원하고, 지역 간 재정의 불균형을 해소하는 것입니다.'},\n",
       " {'Source': '「FIS 이슈 & 포커스」 23-2호 《핵심재정사업 성과관리》',\n",
       "  'Source_path': './test_source/「FIS 이슈 & 포커스」 23-2호 《핵심재정사업 성과관리》.pdf',\n",
       "  'Question': '국제적으로 성과중심 재정관리 강화 움직임이 확산된 시기는 언제인가?',\n",
       "  'Answer': ' 국제적으로 성과중심 재정관리 강화 움직임이 확산된 시기는 2007년 이후입니다. \\n\\n\\n'},\n",
       " {'Source': '「FIS 이슈 & 포커스」 23-2호 《핵심재정사업 성과관리》',\n",
       "  'Source_path': './test_source/「FIS 이슈 & 포커스」 23-2호 《핵심재정사업 성과관리》.pdf',\n",
       "  'Question': '한국의 재정사업 성과관리제도는 어떠한 법을 통해 운영되고 있으며, 성과관리 기본계획과 추진계획은 어떻게 의무화되었는가?',\n",
       "  'Answer': \" 한국의 재정사업 성과관리는 '일반·특별회계 재정체계의 예산(일반·특별회계) 지출과 기금의 예산 지출을 포함하는 일반회계 재정체계의 예산 지출과 기금의 예산 지출을 포함하는 일반회계 재정체계의 예산 지출과 기금의 예산 지출을 포함하는 일반회계 재정체계의 예산 지출과 기금의 예산 지출을 포함하는 일반회계 재정체계의 예산 지출과 기금의 예산 지출을 포함하는 일반회계 재정체계의 예산 지출과 기금의 예산 지출을 포함하는 일반회계 재정체계의 예산 지출과 기금의 예산 지출을 포함하는 일반회계 재정체계의 예산 지출과 기금의 예산 지출을 포함하는 일반회계 재정체계의 예산 지출과 기금의 예산 지출을 포함하는 일반회계 재정체계의 예산 지출과 기금의 예산 지출을 포함하는 일반회계 재정체계의 예산 지출과 기금의 예산 지출을 포함하는 일반회계 재정체계의 예산 지출과 기금의 예산 지출을 포함하는 일반회계 재정체계의 예산 지출과 기금의 예산 지출을 포함하는 일반회계 재정체계의 예산 지출과 기금의 예산 지출을 포함하는 일반회계 재정체계의 예산 지출과 기금의 예산 지출을 포함하는 일반회계 재정체계의 예산 지출과 기금의 예산 지출을 포함하는 일반회계 재정체계의\"},\n",
       " {'Source': '「FIS 이슈 & 포커스」 23-2호 《핵심재정사업 성과관리》',\n",
       "  'Source_path': './test_source/「FIS 이슈 & 포커스」 23-2호 《핵심재정사업 성과관리》.pdf',\n",
       "  'Question': '핵심재정사업 성과관리제도를 안착시키기 위해 필요한 노력과 성과 정보를 학습의 도구로 활용하는 방안은 무엇인가?',\n",
       "  'Answer': ' 핵심재정사업의 성과 정보를 학습의 도구로 활용하기 위해서는, 일반회계의 예산 지출과 특별회계의 예산 지출을 포함한 핵심 재정 사업의 성과 정보를 체계적으로 수집하고 공개하는 플랫폼을 구축하고, 이를 활용한 교육 프로그램을 개발하는 것이 필요합니다. \\n\\n\\n'},\n",
       " {'Source': '「FIS 이슈 & 포커스」 23-2호 《핵심재정사업 성과관리》',\n",
       "  'Source_path': './test_source/「FIS 이슈 & 포커스」 23-2호 《핵심재정사업 성과관리》.pdf',\n",
       "  'Question': '사회보험 사각지대 발생의 주요 원인과 이로 인해 발생하는 문제는 무엇인가요?',\n",
       "  'Answer': ' 사회보험의 지급 대상 및 범위가 제한되어 있고, 저소득층, 자영업자, 일부 특수 계층은 사회보험의 보호를 받지 못하는 경우가 많습니다. 이로 인해 예산 지출이 증가하고, 사회적 불평등이 심화되며, 개인의 경제적 어려움이 가중되는 문제가 발생합니다. \\n\\n\\n'},\n",
       " {'Source': '「FIS 이슈 & 포커스」 23-2호 《핵심재정사업 성과관리》',\n",
       "  'Source_path': './test_source/「FIS 이슈 & 포커스」 23-2호 《핵심재정사업 성과관리》.pdf',\n",
       "  'Question': '청년일자리도약장려금은 어떤 대상을 지원하며, 어떤 방식으로 지원되는가?',\n",
       "  'Answer': ' 청년일자리도약장려금은 일반·특별회계의 예산 지출로, 일반회계의 예산 지출은 최대 1,200만원, 특별회계는 최대 1,200만원으로 구성되어 있습니다.'},\n",
       " {'Source': '「FIS 이슈 & 포커스」 22-4호 《중앙-지방 간 재정조정제도》',\n",
       "  'Source_path': './test_source/「FIS 이슈 & 포커스」 22-4호 《중앙-지방 간 재정조정제도》.pdf',\n",
       "  'Question': '수직적 재정조정제도와 수평적 재정조정제도의 차이는 무엇인가요?',\n",
       "  'Answer': ' 수직적 재정조정은 중앙정부와 지방정부 간의 재정체계를, 수평적 재정조정은 지방정부 간의 재정체계를 구성하고 있습니다. \\n\\n\\n'},\n",
       " {'Source': '「FIS 이슈 & 포커스」 22-4호 《중앙-지방 간 재정조정제도》',\n",
       "  'Source_path': './test_source/「FIS 이슈 & 포커스」 22-4호 《중앙-지방 간 재정조정제도》.pdf',\n",
       "  'Question': '지방재정조정제도는 어떤 목적을 가지고 있나요?',\n",
       "  'Answer': ' 지방재정조정제도는 지방자치단체의 재정체계를 통해 일반회계의 예산 지출을 충당하고, 지역 간 재정 균형을 이루어 국가의 재정체계를 구성하고 있습니다. \\n\\n\\n'},\n",
       " {'Source': '「FIS 이슈 & 포커스」 22-4호 《중앙-지방 간 재정조정제도》',\n",
       "  'Source_path': './test_source/「FIS 이슈 & 포커스」 22-4호 《중앙-지방 간 재정조정제도》.pdf',\n",
       "  'Question': '중앙-지방 간 재정조정제도에서 어떤 재원을 이전하여 수직적 재정 불균형을 해소하는가?',\n",
       "  'Answer': ' 중앙정부는 지방교부세와 국고보조금을 주된 재원으로 이전하여 수직적 재정 불균형을 해소합니다. \\n\\n\\n'},\n",
       " {'Source': '「FIS 이슈 & 포커스」 22-4호 《중앙-지방 간 재정조정제도》',\n",
       "  'Source_path': './test_source/「FIS 이슈 & 포커스」 22-4호 《중앙-지방 간 재정조정제도》.pdf',\n",
       "  'Question': '중앙정부의 예산편성은 어떤 재원 배분 문제를 결정하며, 중앙-지방 간 재정조정제도를 통해 어떤 재원을 이전하고, 이의 목적은 무엇인가?',\n",
       "  'Answer': ' 중앙정부의 예산(일반·특별회계)은 일반·특별회계 재정체계의 예산(일반·특별회계)으로 구분되며, 중앙정부의 예산(일반·특별회계)은 일반·특별회계 재정체계의 예산(일반·특별회계)으로 구분되며, 중앙정부는 예산 지출과 예산 지출을 구성하는 일반·특별회계 재정체계의 예산(일반·특별회계)으로 구분되며, 중앙정부는 예산 지출과 예산 지출을 구성하는 일반·특별회계 재정체계의 예산(일반·특별회계)으로 구분되며, 중앙정부는 예산 지출과 예산 지출을 구성하는 일반·특별회계 재정체계의 예산(일반·특별회계)로 구분되며, 중앙정부는 예산 지출과 예산 지출을 구성하는 일반·특별회계 재정체계의 예산(일반·특별회계)로 구분되며, 중앙정부는 예산 지출과 예산 지출을 구성하는 일반·특별회계 재정체계의 예산(일반·특별회계)로 구분되며, 중앙정부는 예산 지출과 예산 지출을 구성하는 일반·특별회계 재정체계의 예산(일반·특별회계)로 구분되며, 중앙정부는 예산 지출과 예산 지출을 구성하는 일반·특별회계 재정체계의 예산(일반·특별회계)로'},\n",
       " {'Source': '「FIS 이슈 & 포커스」 23-2호 《핵심재정사업 성과관리》',\n",
       "  'Source_path': './test_source/「FIS 이슈 & 포커스」 23-2호 《핵심재정사업 성과관리》.pdf',\n",
       "  'Question': '재정사업 성과관리제도의 필요성이 대두된 시기와 한국의 재정사업 성과관리제도가 어떤 법에 근거하여 운영되고 있는지 설명하시오.',\n",
       "  'Answer': \" 재정사업의 효율성을 높이기 위해 2003년 중앙정부 재정체계의 성과를 측정하는 '성과목표관리'가 도입되었고, 이후 2005년 '성과평가'가 추가로 도입되어 현재의 재정사업 성과관리제도로 발전했습니다. 한국의 재정사업 성과관리는 '국가 재정체계의 성과를 평가하고 관리하기 위한 기본체계'로,  2007년 중앙정부의 재정체계를 구성하는 법으로 '국가 재정 법'에 재정사업 성과관리에 대한 내용이 포함되어 있습니다.\\n\\n\\n\"},\n",
       " {'Source': '「FIS 이슈 & 포커스」 23-2호 《핵심재정사업 성과관리》',\n",
       "  'Source_path': './test_source/「FIS 이슈 & 포커스」 23-2호 《핵심재정사업 성과관리》.pdf',\n",
       "  'Question': '청년일자리도약장려금은 어떤 대상을 지원하며, 어떤 방식으로 지원되는가?',\n",
       "  'Answer': ' 청년일자리도약장려금은 일반·특별회계의 예산 지출로, 일반회계의 예산 지출은 15개월 동안 월 150만원, 특별회계는 12개월 동안 월 150만원으로 지원되며, 일반회계는 최대 1년, 특별회계는 최대 1년 동안 지급됩니다.\\n\\n\\n\\n\\n'},\n",
       " {'Source': '「FIS 이슈&포커스」 22-2호 《재정성과관리제도》',\n",
       "  'Source_path': './test_source/「FIS 이슈&포커스」 22-2호 《재정성과관리제도》.pdf',\n",
       "  'Question': '재정성과관리제도는 어떤 측면에서 국정운영과 연결되는가?',\n",
       "  'Answer': ' 재정성과관리제도는 전략목표와 우선순위를 중심으로 재정체계를 구성하고, 예산 지출의 효율성을 높이기 위해 재정체계와 연결되어 있습니다. \\n\\n\\n'},\n",
       " {'Source': '「FIS 이슈&포커스」 22-2호 《재정성과관리제도》',\n",
       "  'Source_path': './test_source/「FIS 이슈&포커스」 22-2호 《재정성과관리제도》.pdf',\n",
       "  'Question': '성과관리의 실효성 강화를 위해 정부가 취한 조치는 무엇인가?',\n",
       "  'Answer': ' 재정사업의 성과를 반영한 예산 지출 지속적인 지출 구조 조정,  사업별 성과 정보 DB 구축 및 온라인 정보 공개를 통한 투명성 제고 등으로 구성되어 있습니다. \\n'},\n",
       " {'Source': '「FIS 이슈&포커스」 22-2호 《재정성과관리제도》',\n",
       "  'Source_path': './test_source/「FIS 이슈&포커스」 22-2호 《재정성과관리제도》.pdf',\n",
       "  'Question': '재정성과관리 관련 주요 쟁점은 무엇인가?',\n",
       "  'Answer': ' 재정성과관리의 효과를 높이기 위해 재정사업의 평가 대상과 범위를 어떻게 설정하고, 어떻게 관리할 것인지, 그리고 결과를 어떻게 재정체계에 반영하고 공개할 것인지가 주요 쟁점입니다. \\n\\n\\n\\n\\n'},\n",
       " {'Source': '「FIS 이슈&포커스」 22-2호 《재정성과관리제도》',\n",
       "  'Source_path': './test_source/「FIS 이슈&포커스」 22-2호 《재정성과관리제도》.pdf',\n",
       "  'Question': '재정성과관리가 왜 중요한가?',\n",
       "  'Answer': ' 재정체계는 효율적이고 책임스러운 방식으로 운영되도록 하고, 국민에게 재정체계의 투명성을 제공하기 위해 중요합니다.'},\n",
       " {'Source': '「FIS 이슈&포커스」 22-2호 《재정성과관리제도》',\n",
       "  'Source_path': './test_source/「FIS 이슈&포커스」 22-2호 《재정성과관리제도》.pdf',\n",
       "  'Question': '재정성과관리는 무엇을 목표로 하는가?',\n",
       "  'Answer': ' 재정체계의 투명성과 책임성을 높이고, 예산 지출의 효율성과 효과성을 제고하는 것을 목표로 합니다.'},\n",
       " {'Source': '「FIS 이슈&포커스」 22-2호 《재정성과관리제도》',\n",
       "  'Source_path': './test_source/「FIS 이슈&포커스」 22-2호 《재정성과관리제도》.pdf',\n",
       "  'Question': '어떤 국제기구들이 사업을 기준으로 예산을 나누어 성과 정보를 생산하고 있는가?',\n",
       "  'Answer': ' OECD와 World Bank는 사업을 기준으로 예산을 나누어 성과 정보를 생산하고 있습니다. \\n\\n\\n'},\n",
       " {'Source': '「FIS 이슈&포커스」 22-2호 《재정성과관리제도》',\n",
       "  'Source_path': './test_source/「FIS 이슈&포커스」 22-2호 《재정성과관리제도》.pdf',\n",
       "  'Question': '재정성과관리의 목적은 무엇인가?',\n",
       "  'Answer': ' 재정성과관리의 목적은 재정체계의 투명성과 책임성을 높이고, 효율성과 효과성을 제고하는 것입니다.'},\n",
       " {'Source': '「FIS 이슈&포커스」 22-2호 《재정성과관리제도》',\n",
       "  'Source_path': './test_source/「FIS 이슈&포커스」 22-2호 《재정성과관리제도》.pdf',\n",
       "  'Question': '2021년 「국가재정법」 개정으로 어떤 규정이 신설되었는가?',\n",
       "  'Answer': ' 재정체계의 효율성을 높이기 위해  2021년 중앙정부의 재정체계는 어떻게 구성되어 있나요?'},\n",
       " {'Source': '「FIS 이슈&포커스」 22-2호 《재정성과관리제도》',\n",
       "  'Source_path': './test_source/「FIS 이슈&포커스」 22-2호 《재정성과관리제도》.pdf',\n",
       "  'Question': '성과관리제도는 지출 구조조정을 위해 어떤 방향으로 추진되고 있는가?',\n",
       "  'Answer': ' 재정체계는 예산 지출의 효율성을 높이기 위해 지출 구조를 재정체계는 예산 지출의 효율성을 높이기 위해 지출 구조를 재정체계는 예산 지출의 효율성을 높이기 위해 지출 구조를 재정체계는 예산 지출의 효율성을 높이기 위해 지출 구조를 재정체계는 예산 지출의 효율성을 높이기 위해 지출 구조를 재정체계는 예산 지출의 효율성을 높이기 위해 지출 구조를 재정체계는 예산 지출의 효율성을 높이기 위해 지출 구조를 재정체계는 예산 지출의 효율성을 높이기 위해 지출 구조를 재정체계는 예산 지출의 효율성을 높이기 위해 지출 구조를 재정체계는 예산 지출의 효율성을 높이기 위해 지출 구조를 재정체계는 예산 지출의 효율성을 높이기 위해 지출 구조를 재정체계는 예산 지출의 효율성을 높이기 위해 지출 구조를 재정체계는 예산 지출의 효율성을 높이기 위해 지출 구조를 재정체계는 예산 지출의 효율성을 높이기 위해 지출 구조를 재정체계는 예산 지출의 효율성을 높이기 위해 지출 구조를 재정체계는 예산 지출의 효율성을 높이기 위해 지출 구조를 재정체계는 예산 지출의 효율성을 높이기 위해 지출 구조를 재정체계는 예산 지출'},\n",
       " {'Source': '「FIS 이슈&포커스」 22-2호 《재정성과관리제도》',\n",
       "  'Source_path': './test_source/「FIS 이슈&포커스」 22-2호 《재정성과관리제도》.pdf',\n",
       "  'Question': '재정사업 자율평가의 목적은 무엇이며, 어떤 방식으로 제도 개선이 이루어졌는가?',\n",
       "  'Answer': ' 재정사업 자율평가는 재정체계의 투명성과 효율성을 높이기 위해 각 부처의 자발적인 참여를 통해 실시되며, 최근에는 평가의 효과를 강화하기 위해 다양한 방식으로 제도가 개선되어왔습니다. \\n\\n\\n'},\n",
       " {'Source': '「FIS 이슈&포커스」 22-2호 《재정성과관리제도》',\n",
       "  'Source_path': './test_source/「FIS 이슈&포커스」 22-2호 《재정성과관리제도》.pdf',\n",
       "  'Question': '2016년 재정성과관리제도의 환류 개선사항은 무엇인가?',\n",
       "  'Answer': ' 2016년 재정체계는 예산(일반·특별회계)과 기금으로 구분되며, 2016년 중앙정부의 재정체계는 예산(일반·특별회계)과 기금으로 구분되며, 2016년 중앙정부의 재정체계는 예산(일반·특별회계)과 기금으로 구분되며, 2016년 중앙정부의 재정체계는 예산(일반·특별회계)과 기금으로 구분되며, 2016년 중앙정부의 재정체계는 예산(일반·특별회계)와 기금으로 구분되며, 2016년 중앙정부의 재정체계는 예산(일반·특별회계)와 기금으로 구분되며, 2016년 중앙정부의 재정체계는 예산(일반·특별회계)와 기금으로 구분되며, 2016년 중앙정부의 재정체계는 예산(일반·특별회계)와 기금으로 구분되며, 2016년 중앙정부의 재정체계는 예산(일반·특별회계)와 기금으로 구분되며, 2016년 중앙정부의 재정체계는 예산(일반·특별회계)와 기금으로 구분되며, 2016년 중앙정부의 재정체계는 예산(일반·특별회계)와 기금으로 구분되며, 2016년 중앙정'},\n",
       " {'Source': '「FIS 이슈&포커스」 22-2호 《재정성과관리제도》',\n",
       "  'Source_path': './test_source/「FIS 이슈&포커스」 22-2호 《재정성과관리제도》.pdf',\n",
       "  'Question': '2018년도에 재정성과관리제도 개선사항과, 이로 인해 어떤 효과가 발생했는가?',\n",
       "  'Answer': ' 재정사업의 평가는 일반·특별회계·일반·특별·보조·국고·일반·특별·보조·국고·일반·특별·보조·국고·일반·특별·보조·국고·일반·특별·보조·국고·일반·특별·보조·국고·일반·특별·보조·국고·일반·특별·보조·국고·일반·특별·보조·국고·일반·특별·보조·국고·일반·특별·보조·국고·일반·특별·보조·국고·일반·특별·보조·국고·일반·특별·보조·국고·일반·특별·보조·국고·일반·특별·보조·국고·일반·특별·보조·국고·일반·특별·보조·국고·일반·특별·보조·국고·일반·특별·보조·국고·일반·특별·보조·국고·일반·특별·보조·국고·일반·특별·보조·국고·일반·특별·보조·국고·일반·특별·보조·국고·일반·특별·보조·국고·일반·특별·보조·국고·일반·특별·보조·국고·일반·특별·보조·국고·일반·특별·보조·국고·일반·특별·보조·국고·일반·특별·보조·국고·일'},\n",
       " {'Source': '「FIS 이슈&포커스」 22-2호 《재정성과관리제도》',\n",
       "  'Source_path': './test_source/「FIS 이슈&포커스」 22-2호 《재정성과관리제도》.pdf',\n",
       "  'Question': '재정사업 자율평가의 전면 개편을 통해 어떤 중점 추진과제가 제시되었는가?',\n",
       "  'Answer': \" 재정사업의 효율성을 높이기 위해  '단일 평가체계로의 통합', '핵심 사업에 집중', '의무적 지출구조조정 재도입' 을 중점으로 추진하고 있습니다. \\n\\n\\n\"},\n",
       " {'Source': '「FIS 이슈&포커스」 22-2호 《재정성과관리제도》',\n",
       "  'Source_path': './test_source/「FIS 이슈&포커스」 22-2호 《재정성과관리제도》.pdf',\n",
       "  'Question': '재정성과관리제도의 중요성과 국정운영과의 연결성은 무엇인가?',\n",
       "  'Answer': ' 재정성과관리제도는 예산 지출의 효율성과 효과성을 높여 국정의 목표 달성을 위한 중요한 기제로,  총량 관리와의 조화를 통해 효율적인 예산 지출을 위한 필수적인 요소입니다. \\n\\n\\n'},\n",
       " {'Source': '「FIS 이슈&포커스」 22-2호 《재정성과관리제도》',\n",
       "  'Source_path': './test_source/「FIS 이슈&포커스」 22-2호 《재정성과관리제도》.pdf',\n",
       "  'Question': '재정성과관리체계 강화를 위해 정부가 어떤 제도를 제시했으며, 재정성과관리는 무엇을 목표로 하는가?',\n",
       "  'Answer': ' 재정체계는 예산 지출의 효율성을 높이고, 예산 지출의 우선순위를 명확히 설정하여 재정체계의 투명성을 높이는 것을 목표로 합니다. 정부는 재정체계의 효율성을 높이기 위해 예산 지출의 효율성을 높이고, 예산 지출의 우선순위를 명확히 설정하여 재정체계의 투명성을 높이는 것을 목표로 하는 재정체계를 제시했습니다. \\n\\n\\n'},\n",
       " {'Source': '「FIS 이슈&포커스」 22-2호 《재정성과관리제도》',\n",
       "  'Source_path': './test_source/「FIS 이슈&포커스」 22-2호 《재정성과관리제도》.pdf',\n",
       "  'Question': '재정성과관리는 어떤 과정에서 수행되며, 무엇을 증진하기 위해 활동하는가?',\n",
       "  'Answer': ' 재정성과관리는 예산의 편성부터 집행, 결산까지 모든 과정을 통해 수행되며, 재정의 효율성과 책임성을 증진하기 위해 활동합니다. \\n\\n\\n'},\n",
       " {'Source': '「FIS 이슈&포커스」 22-2호 《재정성과관리제도》',\n",
       "  'Source_path': './test_source/「FIS 이슈&포커스」 22-2호 《재정성과관리제도》.pdf',\n",
       "  'Question': '재정성과관리의 목적과 우리나라의 재정성과관리제도가 프로그램 예산제도로 전환된 시기는?',\n",
       "  'Answer': ' 재정성과관리의 목적은 재정체계의 효율성을 높이고, 예산 지출이 어떻게 활용되고 있는지 투명하게 공개하는 것입니다. 우리나라의 재정성과관리제도는 프로그램 예산제로 전환된 시기는 2016년입니다. \\n\\n\\n'},\n",
       " {'Source': '「FIS 이슈&포커스」 22-2호 《재정성과관리제도》',\n",
       "  'Source_path': './test_source/「FIS 이슈&포커스」 22-2호 《재정성과관리제도》.pdf',\n",
       "  'Question': '2007년과 2021년에 각각 「국가재정법」이 개정되면서 성과관리 제도는 어떻게 강화되고 구체화되었으며, 이 개정의 주된 목적은 무엇인가?',\n",
       "  'Answer': ' 2007년 중앙정부의 재정체계는 일반·특별회계로 구분되며, 2021년 중앙정부의 재정체계는 일반·특별· 기금으로 구분되며, 2021년 중앙정부의 재정체계는 일반·특별· 기금으로 구분되며, 이는 일반·특별·기금으로 구분되며, 2021년 중앙정부의 재정체계는 일반·특별· 기금으로 구분되며, 이는 일반·특별·기금으로 구분되며, 2021년 중앙정부의 재정체계는 일반·특별· 기금으로 구분되며, 이는 일반·특별·기금으로 구분되며, 2021년 중앙정부의 재정체계는 일반·특별· 기금으로 구분되며, 이는 일반·특별·기금으로 구분되며, 2021년 중앙정부의 재정체계는 일반·특별· 기금으로 구분되며, 이는 일반·특별·기금으로 구분되며, 2021년 중앙정부의 재정체계는 일반·특별· 기금으로 구분되며, 이는 일반·특별·기금으로 구분되며, 2021년 중앙정부의 재정체계는 일반·특별· 기금으로 구분되며, 이는 일반·특별·기금으로 구분되며, 2021년 중앙정부의 재정체계는 일반·특별· 기금으로 구분되며, 이는 일반·특별'},\n",
       " {'Source': '「FIS 이슈&포커스」 22-2호 《재정성과관리제도》',\n",
       "  'Source_path': './test_source/「FIS 이슈&포커스」 22-2호 《재정성과관리제도》.pdf',\n",
       "  'Question': '재정사업 자율평가의 목적과 제도 개선 방식은 무엇인가?',\n",
       "  'Answer': ' 재정사업 자율평가는 재정체계의 효율성을 높이기 위해 각 부처의 재정체계를 평가하고, 그 결과를 바탕으로 재정 지출을 효율적으로 구성하는 것을 목표로, 현재는 각 부처의 자율적인 평가를 통해 진행되며, 예산 지출의 효율성을 높이기 위해  2022년 중앙정부의 재정체계는 어떻게 구성되어 있나요?'},\n",
       " {'Source': '「FIS 이슈&포커스」 22-2호 《재정성과관리제도》',\n",
       "  'Source_path': './test_source/「FIS 이슈&포커스」 22-2호 《재정성과관리제도》.pdf',\n",
       "  'Question': '2015년 이전과 2016년에 재정성과 평가 결과 처리 방식과 환류 개선 방식은 어떻게 달라졌는가?',\n",
       "  'Answer': ' 재정성과 평가는 2015년 이전에는 일반·특별회계·기금으로 구분되며, 2016년 중앙정부의 재정체계를 기반으로 일반·특별회계로 구분되며, 평가 결과는 예산 지출에 반영되도록 구성되어 있습니다.'},\n",
       " {'Source': '「FIS 이슈&포커스」 22-2호 《재정성과관리제도》',\n",
       "  'Source_path': './test_source/「FIS 이슈&포커스」 22-2호 《재정성과관리제도》.pdf',\n",
       "  'Question': '재정관리시스템 구축과 성과관리 개편을 추진하는 주된 목적은 무엇인가?',\n",
       "  'Answer': ' 재정체계의 효율성을 높이고, 예산 지출의 효과성을 높이는 것입니다. \\n\\n\\n'},\n",
       " {'Source': '「FIS 이슈 & 포커스」(신규) 통권 제1호 《우발부채》',\n",
       "  'Source_path': './test_source/「FIS 이슈 & 포커스」(신규) 통권 제1호 《우발부채》.pdf',\n",
       "  'Question': '우리나라에서는 언제부터 발생주의 기준을 적용한 국가결산보고서에서 우발부채를 보고하고 있는가?',\n",
       "  'Answer': ' 우리나라는 2011년부터 발생주의 기준을 적용한 국가결산보고서에서 우발부채를 보고하고 있습니다. \\n'},\n",
       " {'Source': '「FIS 이슈 & 포커스」(신규) 통권 제1호 《우발부채》',\n",
       "  'Source_path': './test_source/「FIS 이슈 & 포커스」(신규) 통권 제1호 《우발부채》.pdf',\n",
       "  'Question': '우발부채 관련 주요 쟁점은 무엇인가?',\n",
       "  'Answer': ' 우발부채의 개념과 용어 사용의 혼란, 그리고 새로운 분류기준의 필요성이 주요 쟁점입니다. \\n\\n\\n'},\n",
       " {'Source': '「FIS 이슈 & 포커스」(신규) 통권 제1호 《우발부채》',\n",
       "  'Source_path': './test_source/「FIS 이슈 & 포커스」(신규) 통권 제1호 《우발부채》.pdf',\n",
       "  'Question': '우발부채의 관리는 왜 중요한 이슈로 여겨지는가?',\n",
       "  'Answer': ' 우발부채는 미래의 다양한 의제의무를 포함하고 있어 지속가능한 재정체계를 유지하기 위해 관리가 중요합니다. \\n'},\n",
       " {'Source': '「FIS 이슈 & 포커스」(신규) 통권 제1호 《우발부채》',\n",
       "  'Source_path': './test_source/「FIS 이슈 & 포커스」(신규) 통권 제1호 《우발부채》.pdf',\n",
       "  'Question': '우발부채와 부채의 차이점은 무엇인가?',\n",
       "  'Answer': ' 우발부채는 미래 발생이 불확실한 잠재적 의무인 반면, 일반 부채는 현재의 의무로, 현재 재정체계에서 자원을 유출하는 것을 의미합니다. \\n\\n\\n'},\n",
       " {'Source': '「FIS 이슈 & 포커스」(신규) 통권 제1호 《우발부채》',\n",
       "  'Source_path': './test_source/「FIS 이슈 & 포커스」(신규) 통권 제1호 《우발부채》.pdf',\n",
       "  'Question': '발생주의와 현금주의의 차이는 무엇인가?',\n",
       "  'Answer': ' 발생주의는 재정체계의 경제적 거래 발생 시점을 기준으로 기록하고, 현금주의는 현금 지출 및 수령 시점을 기준으로 기록합니다. \\n'},\n",
       " {'Source': '「FIS 이슈 & 포커스」(신규) 통권 제1호 《우발부채》',\n",
       "  'Source_path': './test_source/「FIS 이슈 & 포커스」(신규) 통권 제1호 《우발부채》.pdf',\n",
       "  'Question': '채무지속가능성분석은 어떤 목적을 가지고 도입되었는가?',\n",
       "  'Answer': ' 채무지속가능성분석(DSA)는 공공부문과 대외채무 지속가능성을 분석하여 잠재적 재정위기의 감지, 예방, 해결을 위한 목적으로 도입되었다. \\n'},\n",
       " {'Source': '「FIS 이슈 & 포커스」(신규) 통권 제1호 《우발부채》',\n",
       "  'Source_path': './test_source/「FIS 이슈 & 포커스」(신규) 통권 제1호 《우발부채》.pdf',\n",
       "  'Question': '의제의무란 무엇인가?',\n",
       "  'Answer': ' 의제무는 발표된 정부의 방침이나 약속으로 인해 중앙정부가 특정 책임을 부담해야 한다는 것을 표명하여 상대방이 그 책임을 이행할 것이라는 정당한 기대를 가질 수 있도록 하는 의무를 말한다. \\n'},\n",
       " {'Source': '「FIS 이슈 & 포커스」(신규) 통권 제1호 《우발부채》',\n",
       "  'Source_path': './test_source/「FIS 이슈 & 포커스」(신규) 통권 제1호 《우발부채》.pdf',\n",
       "  'Question': '국제통화기금이 재정통계 작성의 국제기준을 제시하기 위해 발간한 매뉴얼은 무엇인가?',\n",
       "  'Answer': \" 국제통화기금이 재정통계 작성의 국제기준을 제시하기 위해 발간한 매뉴얼은 'Government Finance Statistics Manual (GFSM)'이다. \\n\"},\n",
       " {'Source': '「FIS 이슈 & 포커스」(신규) 통권 제1호 《우발부채》',\n",
       "  'Source_path': './test_source/「FIS 이슈 & 포커스」(신규) 통권 제1호 《우발부채》.pdf',\n",
       "  'Question': '계류중인 소송사건이란 무엇인가?',\n",
       "  'Answer': ' 정부가 소송의 대상이 되어 계류 중인 사건을 의미합니다. 정부가 원고이거나 피고인 경우로 구분되며, 특히 정부가 피고인 경우의 소송은 우발부채로 분류될 수 있습니다. \\n'},\n",
       " {'Source': '「FIS 이슈 & 포커스」(신규) 통권 제1호 《우발부채》',\n",
       "  'Source_path': './test_source/「FIS 이슈 & 포커스」(신규) 통권 제1호 《우발부채》.pdf',\n",
       "  'Question': '최소운영수입보장(BTO 등) 제도란 무엇을 의미하는가?',\n",
       "  'Answer': ' 최소운영수입보장(BTO 등) 제도는 민간 투자 사업의 경우 예산 지출보다 실제 수입이 적을 경우 정부의 재정체계를 통해 최소 수입을 보장해 주는 제도입니다. \\n'},\n",
       " {'Source': '「FIS 이슈 & 포커스」(신규) 통권 제1호 《우발부채》',\n",
       "  'Source_path': './test_source/「FIS 이슈 & 포커스」(신규) 통권 제1호 《우발부채》.pdf',\n",
       "  'Question': '우발부채에 대한 내용으로 대표적으로 어떤 사항이 해당되는가?',\n",
       "  'Answer': \" 대표적으로 계류 중인 소송 사건, 지급 보증, 담보 제공 자산, 중요한 계약 사항 등이 해당되며,  '명시적 우발부채'와 '암묵적 우발부채'로 구분되며,  '일회성 보증', '융자 및 기타 채무상품 보증', '기타 일회성 보증'으로 세분화되기도 합니다. \\n\\n\\n\"},\n",
       " {'Source': '「FIS 이슈 & 포커스」(신규) 통권 제1호 《우발부채》',\n",
       "  'Source_path': './test_source/「FIS 이슈 & 포커스」(신규) 통권 제1호 《우발부채》.pdf',\n",
       "  'Question': 'GFSM2014에서는 우발부채를 어떻게 구분하는가?',\n",
       "  'Answer': \" GFSM2014는 우발부채를 '명시적(explicit)'과 '암묵적(implicit)'로 구분하고 있습니다. \\n\"},\n",
       " {'Source': '「FIS 이슈 & 포커스」(신규) 통권 제1호 《우발부채》',\n",
       "  'Source_path': './test_source/「FIS 이슈 & 포커스」(신규) 통권 제1호 《우발부채》.pdf',\n",
       "  'Question': 'GFSM은 몇 차례의 개정을 거쳤으며, 어떠한 목적으로 GFSM 2001이 개정되었는가?',\n",
       "  'Answer': ' GFSM은 여러 차례의 개정을 거쳐 발전했으며, GFSM 2001은 재정체계의 표준화와 국제 비교를 용이하게 하기 위해 개정되었습니다. \\n'},\n",
       " {'Source': '「FIS 이슈 & 포커스」(신규) 통권 제1호 《우발부채》',\n",
       "  'Source_path': './test_source/「FIS 이슈 & 포커스」(신규) 통권 제1호 《우발부채》.pdf',\n",
       "  'Question': '표준화 보증이란 무엇인가?',\n",
       "  'Answer': ' 표준화 보증은 특정 조건으로 대규모로 발행되며, 수익/손실은 확률통계로 예측 가능한 보증을 말합니다. \\n'},\n",
       " {'Source': '「FIS 이슈 & 포커스」(신규) 통권 제1호 《우발부채》',\n",
       "  'Source_path': './test_source/「FIS 이슈 & 포커스」(신규) 통권 제1호 《우발부채》.pdf',\n",
       "  'Question': '표준화 보증에서 공공부문의 우발부채는 어떻게 인식되는가?',\n",
       "  'Answer': ' 표준화 보증은 확률통계에 기반하여 평균 손실을 추정할 수 있으므로, 공공부문의 우발부채로 인식되지 않습니다. \\n'},\n",
       " {'Source': '「FIS 이슈 & 포커스」(신규) 통권 제1호 《우발부채》',\n",
       "  'Source_path': './test_source/「FIS 이슈 & 포커스」(신규) 통권 제1호 《우발부채》.pdf',\n",
       "  'Question': '재정정책에서 공적보증채무와 다른 일회성 보증은 어떻게 구분되는가?',\n",
       "  'Answer': ' 재정체계의 일반회계(일반·특별회계)와 예산(일반·특별회계)의 차이점은 무엇입니까?  공적보증채무는 공공 및 민간 부문의 채무를 보증하는 것으로, 다른 일회성 보증은 특정 계약의 일회성 보증으로 구분되며, 재정체계의 일반회계와는 별개로 관리되기도 한다. \\n'},\n",
       " {'Source': '「FIS 이슈 & 포커스」(신규) 통권 제1호 《우발부채》',\n",
       "  'Source_path': './test_source/「FIS 이슈 & 포커스」(신규) 통권 제1호 《우발부채》.pdf',\n",
       "  'Question': '미래사회보장급여에 대한 순의무란 무엇을 의미하는가?',\n",
       "  'Answer': ' 미래사회보장급여에 대한 순의무는 계약상의 부채는 아니며, 미래 발생 비용으로 여겨지는 사회보장급여로 재정체계에 포함되지 않습니다. \\n'},\n",
       " {'Source': '「FIS 이슈 & 포커스」(신규) 통권 제1호 《우발부채》',\n",
       "  'Source_path': './test_source/「FIS 이슈 & 포커스」(신규) 통권 제1호 《우발부채》.pdf',\n",
       "  'Question': '국가결산보고서와 지방자치단체 회계기준에서 우발부채에 대한 용어 및 회계처리가 어떻게 다른가요?',\n",
       "  'Answer': ' 중앙정부의 경우 재정체계는 일반회계(일반·특별회계)와 21개 특별회계로 구분되며, 일반회계의 경우 재무체계는 예산(일반·특별)과 기금으로 구분되며, 지방의 경우 일반회계와 61개 특별회계로 구분되며, 일반회계는 예산과 기금으로 구분되며, 일반회계의 경우 재무체계는 예산과 기금으로 구분되며, 일반회계의 경우 재무체계는 예산과 기금으로 구분되며, 일반회계의 경우 재무체계는 예산과 기금으로 구분되며, 일반회계의 경우 재무체계는 예산과 기금으로 구분되며, 일반회계의 경우 재무체계는 예산과 기금으로 구분되며, 일반회계의 경우 재무체계는 예산과 기금으로 구분되며, 일반회계의 경우 재무체계는 예산과 기금으로 구분되며, 일반회계의 경우 재무체계는 예산과 기금으로 구분되며, 일반회계의 경우 재무체계는 예산과 기금으로 구분되며, 일반회계의 경우 재무체계는 예산과 기금으로 구분되며, 일반회계의 경우 재무체계는 예산과 기금으로 구분되며, 일반회계의 경우 재무체계는 예산과 기금으로 구분되며, 일반회계의 경우 재무체계는 예산과 기금으로 구분되며, 일반회계의 경우 재무체계는 예산과 기금으로 구분되며, 일반회계'},\n",
       " {'Source': '「FIS 이슈 & 포커스」(신규) 통권 제1호 《우발부채》',\n",
       "  'Source_path': './test_source/「FIS 이슈 & 포커스」(신규) 통권 제1호 《우발부채》.pdf',\n",
       "  'Question': '우발부채란 무엇이며, 그 관리가 왜 중요한가?',\n",
       "  'Answer': ' 미래 발생이 불확실한 잠재적 의무 또는 현재의무로, 재정체계의 건전성을 유지하고 예산 지출을 예측하는 데 중요한 요소입니다.'},\n",
       " {'Source': '「FIS 이슈 & 포커스」(신규) 통권 제1호 《우발부채》',\n",
       "  'Source_path': './test_source/「FIS 이슈 & 포커스」(신규) 통권 제1호 《우발부채》.pdf',\n",
       "  'Question': '보증이란 무엇이며, 어떤 형태의 보증이 재정상태표에 부채로 기록되는가? 또한 표준화 보증이란 무엇이며, 어떤 목적으로 발행되는가?',\n",
       "  'Answer': \" 보증은 어떤 대상의 의무 이행을 보장하는 것을 의미하며, 재정상태표에 부채로 기록되는 보증은 계약상의 의무로 인식되는 '표준화 보증'이다. 표준화 보증은 특정 대상의 의무 이행을 보장하기 위해 발행되며, 일반회계의 예산 지출과 관련이 있다. \\n\\n\\n\"}]"
      ]
     },
     "execution_count": 19,
     "metadata": {},
     "output_type": "execute_result"
    }
   ],
   "source": [
    "results"
   ]
  },
  {
   "cell_type": "code",
   "execution_count": 11,
   "metadata": {},
   "outputs": [],
   "source": [
    "# 제출용 샘플 파일 로드\n",
    "submit_df = pd.read_csv(\"open/sample_submission.csv\")\n",
    "\n",
    "# 생성된 답변을 제출 DataFrame에 추가\n",
    "submit_df['Answer'] = [item['Answer'] for item in results]\n",
    "submit_df['Answer'] = submit_df['Answer'].fillna(\"데이콘\")     # 모델에서 빈 값 (NaN) 생성 시 채점에 오류가 날 수 있음 [ 주의 ]\n",
    "\n",
    "# 결과를 CSV 파일로 저장\n",
    "submit_df.to_csv(\"./baseline_submission_lora18.csv\", encoding='UTF-8-sig', index=False)"
   ]
  },
  {
   "cell_type": "code",
   "execution_count": 9,
   "metadata": {},
   "outputs": [],
   "source": [
    "torch.cuda.empty_cache()"
   ]
  },
  {
   "cell_type": "code",
   "execution_count": null,
   "metadata": {},
   "outputs": [],
   "source": []
  }
 ],
 "metadata": {
  "kernelspec": {
   "display_name": "dacon",
   "language": "python",
   "name": "python3"
  },
  "language_info": {
   "codemirror_mode": {
    "name": "ipython",
    "version": 3
   },
   "file_extension": ".py",
   "mimetype": "text/x-python",
   "name": "python",
   "nbconvert_exporter": "python",
   "pygments_lexer": "ipython3",
   "version": "3.11.7"
  }
 },
 "nbformat": 4,
 "nbformat_minor": 2
}
